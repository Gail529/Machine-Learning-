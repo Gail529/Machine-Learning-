{
  "nbformat": 4,
  "nbformat_minor": 0,
  "metadata": {
    "colab": {
      "name": "salary.ipynb",
      "provenance": [],
      "authorship_tag": "ABX9TyO2H33Y1gaiqVQOSEaGevfP",
      "include_colab_link": true
    },
    "kernelspec": {
      "name": "python3",
      "display_name": "Python 3"
    }
  },
  "cells": [
    {
      "cell_type": "markdown",
      "metadata": {
        "id": "view-in-github",
        "colab_type": "text"
      },
      "source": [
        "<a href=\"https://colab.research.google.com/github/Gail529/Machine-Learning-/blob/master/salary.ipynb\" target=\"_parent\"><img src=\"https://colab.research.google.com/assets/colab-badge.svg\" alt=\"Open In Colab\"/></a>"
      ]
    },
    {
      "cell_type": "code",
      "metadata": {
        "id": "BFCijxuOun97"
      },
      "source": [
        "import numpy as nm  \n",
        "import matplotlib.pyplot as mtp  \n",
        "import pandas as pd  \n",
        " \n",
        "data_set= pd.read_csv('Salary_Data.csv')  \n",
        " \n",
        "x= data_set.iloc[:, :-1].values  \n",
        "y= data_set.iloc[:, 1].values   \n",
        " \n",
        " \n",
        "# Splitting the dataset into training and test set.  \n",
        "from sklearn.model_selection import train_test_split  \n",
        "x_train, x_test, y_train, y_test= train_test_split(x, y, test_size= 1/3, random_state=0)  \n",
        " \n",
        " \n",
        "#Fitting the Simple Linear Regression model to the training dataset  \n",
        "from sklearn.linear_model import LinearRegression  \n",
        "regressor= LinearRegression()  \n",
        "regressor.fit(x_train, y_train)  \n",
        " \n",
        " \n",
        "#Prediction of Test and Training set result  \n",
        "y_pred= regressor.predict(x_test)  \n",
        "x_pred= regressor.predict(x_train)  \n",
        " \n",
        " \n",
        "mtp.scatter(x_train, y_train, color=\"green\")   \n",
        "mtp.plot(x_train, x_pred, color=\"red\")    \n",
        "mtp.title(\"Salary vs Experience (Training Dataset)\")  \n",
        "mtp.xlabel(\"Years of Experience\")  \n",
        "mtp.ylabel(\"Salary(In Rupees)\")  \n",
        "mtp.show()   \n",
        " \n",
        " \n",
        "mtp.scatter(x_test, y_test, color=\"blue\")   \n",
        "mtp.plot(x_train, x_pred, color=\"red\")    \n",
        "mtp.title(\"Salary vs Experience (Test Dataset)\")  \n",
        "mtp.xlabel(\"Years of Experience\")  \n",
        " \n",
        " \n",
        "mtp.ylabel(\"Salary(In Rupees)\")  \n",
        "mtp.show()"
      ],
      "execution_count": null,
      "outputs": []
    },
    {
      "cell_type": "code",
      "metadata": {
        "colab": {
          "base_uri": "https://localhost:8080/"
        },
        "id": "gI8DaRZLy0c7",
        "outputId": "d93ba764-2843-417e-c7ae-6f80eaf74394"
      },
      "source": [
        "import numpy as nm  \r\n",
        "import matplotlib.pyplot as mtp  \r\n",
        "import pandas as pd \r\n",
        "\r\n",
        "data_set= pd.read_csv('50_CompList.csv')  \r\n",
        "\r\n",
        "x= data_set.iloc[:, :-1].values  \r\n",
        "y= data_set.iloc[:, 4].values  \r\n",
        "\r\n",
        "\r\n",
        "#Catgorical data  \r\n",
        "from sklearn.preprocessing import LabelEncoder, OneHotEncoder\r\n",
        "labelencoder_x= LabelEncoder() \r\n",
        "x[:, 3]= labelencoder_x.fit_transform(x[:,3])\r\n",
        "onehotencoder= OneHotEncoder() \r\n",
        "x= onehotencoder.fit_transform(x).toarray()  \r\n",
        "\r\n",
        "\r\n",
        "x = x[:, 1:]  \r\n",
        "\r\n",
        "\r\n",
        "# Splitting the dataset into training and test set.  \r\n",
        "from sklearn.model_selection import train_test_split  \r\n",
        "x_train, x_test, y_train, y_test= train_test_split(x, y, test_size= 0.2, random_state=0)  \r\n",
        "\r\n",
        "\r\n",
        "#Fitting the MLR model to the training set:  \r\n",
        "from sklearn.linear_model import LinearRegression  \r\n",
        "regressor= LinearRegression()  \r\n",
        "regressor.fit(x_train, y_train)  \r\n",
        "\r\n",
        "y_pred= regressor.predict(x_test)  \r\n",
        "\r\n",
        "print('Train Score: ', regressor.score(x_train, y_train))  \r\n",
        "print('Test Score: ', regressor.score(x_test, y_test))  \r\n",
        "\r\n",
        "\r\n"
      ],
      "execution_count": null,
      "outputs": [
        {
          "output_type": "stream",
          "text": [
            "Train Score:  1.0\n",
            "Test Score:  -0.2668022331125184\n"
          ],
          "name": "stdout"
        }
      ]
    }
  ]
}