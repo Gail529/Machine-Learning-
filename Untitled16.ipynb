{
  "nbformat": 4,
  "nbformat_minor": 0,
  "metadata": {
    "colab": {
      "name": "Untitled16.ipynb",
      "provenance": [],
      "private_outputs": true,
      "authorship_tag": "ABX9TyM38PYpARr4PWr92dG1pw4D",
      "include_colab_link": true
    },
    "kernelspec": {
      "name": "python3",
      "display_name": "Python 3"
    }
  },
  "cells": [
    {
      "cell_type": "markdown",
      "metadata": {
        "id": "view-in-github",
        "colab_type": "text"
      },
      "source": [
        "<a href=\"https://colab.research.google.com/github/Gail529/Machine-Learning-/blob/master/Untitled16.ipynb\" target=\"_parent\"><img src=\"https://colab.research.google.com/assets/colab-badge.svg\" alt=\"Open In Colab\"/></a>"
      ]
    },
    {
      "cell_type": "code",
      "metadata": {
        "id": "N-ml4zuETun2",
        "colab_type": "code",
        "colab": {}
      },
      "source": [
        "import pandas as pd \n",
        "import numpy as np\n",
        "import seaborn as sns\n",
        "import matplotlib.pyplot as plt\n"
      ],
      "execution_count": null,
      "outputs": []
    },
    {
      "cell_type": "code",
      "metadata": {
        "id": "qqMyMSfIVTwV",
        "colab_type": "code",
        "colab": {}
      },
      "source": [
        "data=pd.read_csv('/content/Train.csv')\n",
        "data.head(5)"
      ],
      "execution_count": null,
      "outputs": []
    },
    {
      "cell_type": "code",
      "metadata": {
        "id": "FpdZIq6VWXyy",
        "colab_type": "code",
        "colab": {}
      },
      "source": [
        "data.describe()"
      ],
      "execution_count": null,
      "outputs": []
    },
    {
      "cell_type": "code",
      "metadata": {
        "id": "6LNzNZAoYAG2",
        "colab_type": "code",
        "colab": {}
      },
      "source": [
        "\n",
        "data['birth_year'].nunique()"
      ],
      "execution_count": null,
      "outputs": []
    },
    {
      "cell_type": "code",
      "metadata": {
        "id": "Hft_z6_KgRY4",
        "colab_type": "code",
        "colab": {}
      },
      "source": [
        "data.info()"
      ],
      "execution_count": null,
      "outputs": []
    },
    {
      "cell_type": "code",
      "metadata": {
        "id": "Sf1Nc945zt4Q",
        "colab_type": "code",
        "colab": {}
      },
      "source": [
        "corr=data.corr()\n",
        "plt.figure(figsize=(12,12))\n",
        "sns.heatmap(corr,  annot=True,   fmt='.1f',  linewidth=.5  ,square=True )"
      ],
      "execution_count": null,
      "outputs": []
    },
    {
      "cell_type": "code",
      "metadata": {
        "id": "Ov1LOcOUaW1R",
        "colab_type": "code",
        "colab": {}
      },
      "source": [
        "sns.set(style='darkgrid',color_codes=True,palette='deep')\n",
        "sns.distplot(data['birth_year'],hist=True,bins=10);"
      ],
      "execution_count": null,
      "outputs": []
    },
    {
      "cell_type": "code",
      "metadata": {
        "id": "OMxD5mNC_NI_",
        "colab_type": "code",
        "colab": {}
      },
      "source": [
        "sns.set(style='darkgrid',color_codes=True,palette='deep')\n",
        "sns.countplot(data['sex'])"
      ],
      "execution_count": null,
      "outputs": []
    },
    {
      "cell_type": "code",
      "metadata": {
        "id": "2jjjGgG5_v_I",
        "colab_type": "code",
        "colab": {}
      },
      "source": [
        "sns.set(style='darkgrid',color_codes=True,palette='deep')\n",
        "sns.countplot(data['marital_status'])"
      ],
      "execution_count": null,
      "outputs": []
    },
    {
      "cell_type": "code",
      "metadata": {
        "id": "VhFlgXfFALVn",
        "colab_type": "code",
        "colab": {}
      },
      "source": [
        "plt.figure(figsize=(9,5))\n",
        "sns.set(style='darkgrid',color_codes=True,palette='deep')\n",
        "sns.countplot(data['branch_code'])"
      ],
      "execution_count": null,
      "outputs": []
    },
    {
      "cell_type": "code",
      "metadata": {
        "id": "GUHtnbrDBG16",
        "colab_type": "code",
        "colab": {}
      },
      "source": [
        "plt.figure(figsize=(9,5))\n",
        "sns.set(style='darkgrid',color_codes=True,palette='deep')\n",
        "sns.countplot(data['occupation_category_code'])"
      ],
      "execution_count": null,
      "outputs": []
    },
    {
      "cell_type": "code",
      "metadata": {
        "id": "a1SGr1OhaWe5",
        "colab_type": "code",
        "colab": {}
      },
      "source": [
        "sns.set(style='darkgrid',color_codes=True,palette='deep')\n",
        "sns.pairplot(data,vars=['birth_year','P5DA','RIBP','8NN1','7POT','66FJ'])"
      ],
      "execution_count": null,
      "outputs": []
    },
    {
      "cell_type": "code",
      "metadata": {
        "id": "5JTCdsNJYPgn",
        "colab_type": "code",
        "colab": {}
      },
      "source": [
        "data['occupation_code'].value_counts()"
      ],
      "execution_count": null,
      "outputs": []
    }
  ]
}