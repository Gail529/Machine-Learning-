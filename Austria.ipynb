{
  "nbformat": 4,
  "nbformat_minor": 0,
  "metadata": {
    "colab": {
      "name": "Austria.ipynb",
      "provenance": [],
      "collapsed_sections": [],
      "authorship_tag": "ABX9TyNU9yDiW44rSjUlD7GdYDLd",
      "include_colab_link": true
    },
    "kernelspec": {
      "name": "python3",
      "display_name": "Python 3"
    }
  },
  "cells": [
    {
      "cell_type": "markdown",
      "metadata": {
        "id": "view-in-github",
        "colab_type": "text"
      },
      "source": [
        "<a href=\"https://colab.research.google.com/github/Gail529/Machine-Learning-/blob/master/Austria.ipynb\" target=\"_parent\"><img src=\"https://colab.research.google.com/assets/colab-badge.svg\" alt=\"Open In Colab\"/></a>"
      ]
    },
    {
      "cell_type": "code",
      "metadata": {
        "id": "WVxjoSFGw3-B",
        "colab_type": "code",
        "colab": {}
      },
      "source": [
        "import pandas as pd\n",
        "import matplotlib.pyplot as plt"
      ],
      "execution_count": 0,
      "outputs": []
    },
    {
      "cell_type": "code",
      "metadata": {
        "id": "d9nqmmZJeCVg",
        "colab_type": "code",
        "colab": {}
      },
      "source": [
        "data=pd.read_excel('/content/Austria.xlsx' , sheet_name='Sheet2')"
      ],
      "execution_count": 0,
      "outputs": []
    },
    {
      "cell_type": "code",
      "metadata": {
        "id": "KHSLrmvYfon5",
        "colab_type": "code",
        "colab": {
          "base_uri": "https://localhost:8080/",
          "height": 360
        },
        "outputId": "9de92a48-713e-45d9-c895-784ca2ec6d93"
      },
      "source": [
        "data.head(5)\n"
      ],
      "execution_count": 13,
      "outputs": [
        {
          "output_type": "execute_result",
          "data": {
            "text/html": [
              "<div>\n",
              "<style scoped>\n",
              "    .dataframe tbody tr th:only-of-type {\n",
              "        vertical-align: middle;\n",
              "    }\n",
              "\n",
              "    .dataframe tbody tr th {\n",
              "        vertical-align: top;\n",
              "    }\n",
              "\n",
              "    .dataframe thead th {\n",
              "        text-align: right;\n",
              "    }\n",
              "</style>\n",
              "<table border=\"1\" class=\"dataframe\">\n",
              "  <thead>\n",
              "    <tr style=\"text-align: right;\">\n",
              "      <th></th>\n",
              "      <th>date</th>\n",
              "      <th>Women</th>\n",
              "      <th>Men</th>\n",
              "      <th>Vienna</th>\n",
              "      <th>Lower Austria</th>\n",
              "      <th>Vorarlberg</th>\n",
              "      <th>Carinthia</th>\n",
              "      <th>Burgenland</th>\n",
              "      <th>Upper Austria</th>\n",
              "      <th>Styria</th>\n",
              "      <th>Salzburg</th>\n",
              "      <th>Tyrol</th>\n",
              "      <th>Nationals</th>\n",
              "      <th>Foreigners</th>\n",
              "      <th>25 and below</th>\n",
              "      <th>25 to 49</th>\n",
              "      <th>50 and above</th>\n",
              "      <th>Disabled people</th>\n",
              "      <th>People without health restrictions</th>\n",
              "      <th>Unnamed: 19</th>\n",
              "      <th>People with other health limitations</th>\n",
              "    </tr>\n",
              "  </thead>\n",
              "  <tbody>\n",
              "    <tr>\n",
              "      <th>0</th>\n",
              "      <td>2019-11</td>\n",
              "      <td>138880</td>\n",
              "      <td>160647</td>\n",
              "      <td>178725</td>\n",
              "      <td>80199</td>\n",
              "      <td>17928</td>\n",
              "      <td>36067</td>\n",
              "      <td>13569</td>\n",
              "      <td>58115</td>\n",
              "      <td>62889</td>\n",
              "      <td>29833</td>\n",
              "      <td>44928</td>\n",
              "      <td>NaN</td>\n",
              "      <td>NaN</td>\n",
              "      <td>NaN</td>\n",
              "      <td>NaN</td>\n",
              "      <td>NaN</td>\n",
              "      <td>NaN</td>\n",
              "      <td>NaN</td>\n",
              "      <td>NaN</td>\n",
              "      <td>NaN</td>\n",
              "    </tr>\n",
              "    <tr>\n",
              "      <th>1</th>\n",
              "      <td>2019-12</td>\n",
              "      <td>136721</td>\n",
              "      <td>213704</td>\n",
              "      <td>165047</td>\n",
              "      <td>78440</td>\n",
              "      <td>15788</td>\n",
              "      <td>37266</td>\n",
              "      <td>13814</td>\n",
              "      <td>57808</td>\n",
              "      <td>63998</td>\n",
              "      <td>29107</td>\n",
              "      <td>43077</td>\n",
              "      <td>NaN</td>\n",
              "      <td>NaN</td>\n",
              "      <td>NaN</td>\n",
              "      <td>NaN</td>\n",
              "      <td>NaN</td>\n",
              "      <td>NaN</td>\n",
              "      <td>NaN</td>\n",
              "      <td>NaN</td>\n",
              "      <td>NaN</td>\n",
              "    </tr>\n",
              "    <tr>\n",
              "      <th>2</th>\n",
              "      <td>2020-01</td>\n",
              "      <td>136430</td>\n",
              "      <td>218905</td>\n",
              "      <td>119826</td>\n",
              "      <td>59141</td>\n",
              "      <td>9706</td>\n",
              "      <td>24681</td>\n",
              "      <td>10614</td>\n",
              "      <td>40638</td>\n",
              "      <td>40942</td>\n",
              "      <td>13132</td>\n",
              "      <td>15307</td>\n",
              "      <td>NaN</td>\n",
              "      <td>NaN</td>\n",
              "      <td>NaN</td>\n",
              "      <td>NaN</td>\n",
              "      <td>NaN</td>\n",
              "      <td>NaN</td>\n",
              "      <td>NaN</td>\n",
              "      <td>NaN</td>\n",
              "      <td>NaN</td>\n",
              "    </tr>\n",
              "    <tr>\n",
              "      <th>3</th>\n",
              "      <td>2020-02</td>\n",
              "      <td>133204</td>\n",
              "      <td>200783</td>\n",
              "      <td>122353</td>\n",
              "      <td>62855</td>\n",
              "      <td>10163</td>\n",
              "      <td>27551</td>\n",
              "      <td>11339</td>\n",
              "      <td>43789</td>\n",
              "      <td>44973</td>\n",
              "      <td>14552</td>\n",
              "      <td>17760</td>\n",
              "      <td>NaN</td>\n",
              "      <td>NaN</td>\n",
              "      <td>NaN</td>\n",
              "      <td>NaN</td>\n",
              "      <td>NaN</td>\n",
              "      <td>NaN</td>\n",
              "      <td>NaN</td>\n",
              "      <td>NaN</td>\n",
              "      <td>NaN</td>\n",
              "    </tr>\n",
              "    <tr>\n",
              "      <th>4</th>\n",
              "      <td>2020-03</td>\n",
              "      <td>219193</td>\n",
              "      <td>285152</td>\n",
              "      <td>125887</td>\n",
              "      <td>60639</td>\n",
              "      <td>9935</td>\n",
              "      <td>26724</td>\n",
              "      <td>10774</td>\n",
              "      <td>43340</td>\n",
              "      <td>43856</td>\n",
              "      <td>12857</td>\n",
              "      <td>15783</td>\n",
              "      <td>NaN</td>\n",
              "      <td>NaN</td>\n",
              "      <td>NaN</td>\n",
              "      <td>NaN</td>\n",
              "      <td>NaN</td>\n",
              "      <td>NaN</td>\n",
              "      <td>NaN</td>\n",
              "      <td>NaN</td>\n",
              "      <td>NaN</td>\n",
              "    </tr>\n",
              "  </tbody>\n",
              "</table>\n",
              "</div>"
            ],
            "text/plain": [
              "      date   Women  ...  Unnamed: 19  People with other health limitations\n",
              "0  2019-11  138880  ...          NaN                                   NaN\n",
              "1  2019-12  136721  ...          NaN                                   NaN\n",
              "2  2020-01  136430  ...          NaN                                   NaN\n",
              "3  2020-02  133204  ...          NaN                                   NaN\n",
              "4  2020-03  219193  ...          NaN                                   NaN\n",
              "\n",
              "[5 rows x 21 columns]"
            ]
          },
          "metadata": {
            "tags": []
          },
          "execution_count": 13
        }
      ]
    },
    {
      "cell_type": "code",
      "metadata": {
        "id": "dsUTGX0ggWwX",
        "colab_type": "code",
        "colab": {}
      },
      "source": [
        "policy=pd.read_excel('/content/Austria.xlsx',sheet_name='Sheet1')"
      ],
      "execution_count": 0,
      "outputs": []
    },
    {
      "cell_type": "code",
      "metadata": {
        "id": "jq2aaI2bIunr",
        "colab_type": "code",
        "outputId": "90428598-f3b4-4269-9c9c-d58aaf3b31ab",
        "colab": {
          "base_uri": "https://localhost:8080/",
          "height": 343
        }
      },
      "source": [
        "policy.head(5)"
      ],
      "execution_count": 0,
      "outputs": [
        {
          "output_type": "execute_result",
          "data": {
            "text/html": [
              "<div>\n",
              "<style scoped>\n",
              "    .dataframe tbody tr th:only-of-type {\n",
              "        vertical-align: middle;\n",
              "    }\n",
              "\n",
              "    .dataframe tbody tr th {\n",
              "        vertical-align: top;\n",
              "    }\n",
              "\n",
              "    .dataframe thead th {\n",
              "        text-align: right;\n",
              "    }\n",
              "</style>\n",
              "<table border=\"1\" class=\"dataframe\">\n",
              "  <thead>\n",
              "    <tr style=\"text-align: right;\">\n",
              "      <th></th>\n",
              "      <th>CountryName</th>\n",
              "      <th>Class</th>\n",
              "      <th>Date</th>\n",
              "      <th>C1_School closing</th>\n",
              "      <th>C1_Flag</th>\n",
              "      <th>C2_Workplace closing</th>\n",
              "      <th>C2_Flag</th>\n",
              "      <th>C3_Cancel public events</th>\n",
              "      <th>C3_Flag</th>\n",
              "      <th>C4_Restrictions on gatherings</th>\n",
              "      <th>C4_Flag</th>\n",
              "      <th>C5_Close public transport</th>\n",
              "      <th>C5_Flag</th>\n",
              "      <th>C6_Stay at home requirements</th>\n",
              "      <th>C6_Flag</th>\n",
              "      <th>C7_Restrictions on internal movement</th>\n",
              "      <th>C7_Flag</th>\n",
              "      <th>C8_International travel controls</th>\n",
              "      <th>E1_Income support</th>\n",
              "      <th>E1_Flag</th>\n",
              "      <th>E2_Debt/contract relief</th>\n",
              "      <th>E3_Fiscal measures</th>\n",
              "      <th>E4_International support</th>\n",
              "      <th>H1_Public information campaigns</th>\n",
              "      <th>H1_Flag</th>\n",
              "      <th>H2_Testing policy</th>\n",
              "      <th>H3_Contact tracing</th>\n",
              "      <th>H4_Emergency investment in healthcare</th>\n",
              "      <th>H5_Investment in vaccines</th>\n",
              "      <th>ConfirmedCases</th>\n",
              "      <th>Daily_confirmed</th>\n",
              "      <th>ConfirmedDeaths</th>\n",
              "      <th>Daily_deaths</th>\n",
              "      <th>MIR%</th>\n",
              "    </tr>\n",
              "  </thead>\n",
              "  <tbody>\n",
              "    <tr>\n",
              "      <th>0</th>\n",
              "      <td>Austria</td>\n",
              "      <td>High_Income</td>\n",
              "      <td>2020-03-01</td>\n",
              "      <td>0</td>\n",
              "      <td>0</td>\n",
              "      <td>0</td>\n",
              "      <td>0</td>\n",
              "      <td>0</td>\n",
              "      <td>0</td>\n",
              "      <td>0</td>\n",
              "      <td>0</td>\n",
              "      <td>0</td>\n",
              "      <td>0</td>\n",
              "      <td>0</td>\n",
              "      <td>0</td>\n",
              "      <td>0</td>\n",
              "      <td>0</td>\n",
              "      <td>0</td>\n",
              "      <td>0</td>\n",
              "      <td>0</td>\n",
              "      <td>0</td>\n",
              "      <td>0</td>\n",
              "      <td>0</td>\n",
              "      <td>2</td>\n",
              "      <td>1</td>\n",
              "      <td>1</td>\n",
              "      <td>0</td>\n",
              "      <td>0</td>\n",
              "      <td>0</td>\n",
              "      <td>10</td>\n",
              "      <td>3</td>\n",
              "      <td>0</td>\n",
              "      <td>0</td>\n",
              "      <td>0.0</td>\n",
              "    </tr>\n",
              "    <tr>\n",
              "      <th>1</th>\n",
              "      <td>Austria</td>\n",
              "      <td>High_Income</td>\n",
              "      <td>2020-03-02</td>\n",
              "      <td>0</td>\n",
              "      <td>0</td>\n",
              "      <td>0</td>\n",
              "      <td>0</td>\n",
              "      <td>0</td>\n",
              "      <td>0</td>\n",
              "      <td>0</td>\n",
              "      <td>0</td>\n",
              "      <td>0</td>\n",
              "      <td>0</td>\n",
              "      <td>0</td>\n",
              "      <td>0</td>\n",
              "      <td>0</td>\n",
              "      <td>0</td>\n",
              "      <td>0</td>\n",
              "      <td>0</td>\n",
              "      <td>0</td>\n",
              "      <td>0</td>\n",
              "      <td>0</td>\n",
              "      <td>0</td>\n",
              "      <td>2</td>\n",
              "      <td>1</td>\n",
              "      <td>1</td>\n",
              "      <td>0</td>\n",
              "      <td>0</td>\n",
              "      <td>0</td>\n",
              "      <td>14</td>\n",
              "      <td>4</td>\n",
              "      <td>0</td>\n",
              "      <td>0</td>\n",
              "      <td>0.0</td>\n",
              "    </tr>\n",
              "    <tr>\n",
              "      <th>2</th>\n",
              "      <td>Austria</td>\n",
              "      <td>High_Income</td>\n",
              "      <td>2020-03-03</td>\n",
              "      <td>0</td>\n",
              "      <td>0</td>\n",
              "      <td>0</td>\n",
              "      <td>0</td>\n",
              "      <td>0</td>\n",
              "      <td>0</td>\n",
              "      <td>0</td>\n",
              "      <td>0</td>\n",
              "      <td>0</td>\n",
              "      <td>0</td>\n",
              "      <td>0</td>\n",
              "      <td>0</td>\n",
              "      <td>0</td>\n",
              "      <td>0</td>\n",
              "      <td>0</td>\n",
              "      <td>0</td>\n",
              "      <td>0</td>\n",
              "      <td>0</td>\n",
              "      <td>0</td>\n",
              "      <td>0</td>\n",
              "      <td>2</td>\n",
              "      <td>1</td>\n",
              "      <td>1</td>\n",
              "      <td>0</td>\n",
              "      <td>0</td>\n",
              "      <td>0</td>\n",
              "      <td>18</td>\n",
              "      <td>4</td>\n",
              "      <td>0</td>\n",
              "      <td>0</td>\n",
              "      <td>0.0</td>\n",
              "    </tr>\n",
              "    <tr>\n",
              "      <th>3</th>\n",
              "      <td>Austria</td>\n",
              "      <td>High_Income</td>\n",
              "      <td>2020-03-04</td>\n",
              "      <td>0</td>\n",
              "      <td>0</td>\n",
              "      <td>0</td>\n",
              "      <td>0</td>\n",
              "      <td>0</td>\n",
              "      <td>0</td>\n",
              "      <td>0</td>\n",
              "      <td>0</td>\n",
              "      <td>0</td>\n",
              "      <td>0</td>\n",
              "      <td>0</td>\n",
              "      <td>0</td>\n",
              "      <td>0</td>\n",
              "      <td>0</td>\n",
              "      <td>0</td>\n",
              "      <td>0</td>\n",
              "      <td>0</td>\n",
              "      <td>0</td>\n",
              "      <td>11128806</td>\n",
              "      <td>0</td>\n",
              "      <td>2</td>\n",
              "      <td>1</td>\n",
              "      <td>1</td>\n",
              "      <td>0</td>\n",
              "      <td>0</td>\n",
              "      <td>0</td>\n",
              "      <td>24</td>\n",
              "      <td>6</td>\n",
              "      <td>0</td>\n",
              "      <td>0</td>\n",
              "      <td>0.0</td>\n",
              "    </tr>\n",
              "    <tr>\n",
              "      <th>4</th>\n",
              "      <td>Austria</td>\n",
              "      <td>High_Income</td>\n",
              "      <td>2020-03-05</td>\n",
              "      <td>0</td>\n",
              "      <td>0</td>\n",
              "      <td>0</td>\n",
              "      <td>0</td>\n",
              "      <td>0</td>\n",
              "      <td>0</td>\n",
              "      <td>0</td>\n",
              "      <td>0</td>\n",
              "      <td>0</td>\n",
              "      <td>0</td>\n",
              "      <td>0</td>\n",
              "      <td>0</td>\n",
              "      <td>0</td>\n",
              "      <td>0</td>\n",
              "      <td>0</td>\n",
              "      <td>0</td>\n",
              "      <td>0</td>\n",
              "      <td>0</td>\n",
              "      <td>0</td>\n",
              "      <td>0</td>\n",
              "      <td>2</td>\n",
              "      <td>1</td>\n",
              "      <td>1</td>\n",
              "      <td>0</td>\n",
              "      <td>0</td>\n",
              "      <td>0</td>\n",
              "      <td>29</td>\n",
              "      <td>5</td>\n",
              "      <td>0</td>\n",
              "      <td>0</td>\n",
              "      <td>0.0</td>\n",
              "    </tr>\n",
              "  </tbody>\n",
              "</table>\n",
              "</div>"
            ],
            "text/plain": [
              "  CountryName        Class       Date  ...  ConfirmedDeaths  Daily_deaths  MIR%\n",
              "0     Austria  High_Income 2020-03-01  ...                0             0   0.0\n",
              "1     Austria  High_Income 2020-03-02  ...                0             0   0.0\n",
              "2     Austria  High_Income 2020-03-03  ...                0             0   0.0\n",
              "3     Austria  High_Income 2020-03-04  ...                0             0   0.0\n",
              "4     Austria  High_Income 2020-03-05  ...                0             0   0.0\n",
              "\n",
              "[5 rows x 34 columns]"
            ]
          },
          "metadata": {
            "tags": []
          },
          "execution_count": 4
        }
      ]
    },
    {
      "cell_type": "code",
      "metadata": {
        "id": "DcHHZu6paWKV",
        "colab_type": "code",
        "colab": {}
      },
      "source": [
        "import datetime as dt\n",
        "import matplotlib.dates as mdates"
      ],
      "execution_count": 0,
      "outputs": []
    },
    {
      "cell_type": "code",
      "metadata": {
        "id": "kMd7oHMxgt26",
        "colab_type": "code",
        "outputId": "580d448e-a523-49aa-af2c-df3e9e3d6d86",
        "colab": {
          "base_uri": "https://localhost:8080/",
          "height": 353
        }
      },
      "source": [
        "string=policy['StringencyIndex']\n",
        "date=policy['Date']\n",
        "plt.style.use('seaborn')\n",
        "plt.figure(figsize=(12,5))\n",
        "plt.plot(date,string,color='grey',linestyle='dashed')\n",
        "plt.annotate('Canceling of  all public events  \\n Stay at home requirements' ,(mdates.date2num(date[198]) ,(string[198] )  )  ) \n",
        "plt.annotate('Restrictions on gatherings(limit 10 people) \\n Workplace Closure' ,(mdates.date2num(date[201]) ,(string[200] )  )  ) \n",
        "plt.annotate('Relaxing of  workplace closure \\n policy to specific sectors' ,(mdates.date2num(date[236]) ,(string[236] )  )  ) \n",
        "plt.annotate('' ,(mdates.date2num(date[201]) ,(string[200] )  )  ) \n",
        "plt.xlabel('Date')\n",
        "plt.ylabel('StringencyIndex')\n",
        "plt.title('')\n",
        "plt.legend()\n",
        "plt.show()"
      ],
      "execution_count": 0,
      "outputs": [
        {
          "output_type": "stream",
          "text": [
            "No handles with labels found to put in legend.\n"
          ],
          "name": "stderr"
        },
        {
          "output_type": "display_data",
          "data": {
            "image/png": "[encoded data removed]",
            "text/plain": [
              "<Figure size 864x360 with 1 Axes>"
            ]
          },
          "metadata": {
            "tags": []
          }
        }
      ]
    },
    {
      "cell_type": "code",
      "metadata": {
        "id": "__Fck9EphCmy",
        "colab_type": "code",
        "outputId": "5ae15d86-39ae-4258-ebad-ab18b09b9058",
        "colab": {
          "base_uri": "https://localhost:8080/",
          "height": 405
        }
      },
      "source": [
        "plt.style.use('seaborn')\n",
        "date=data['date']\n",
        "women=data['Women']\n",
        "men=data['Men']\n",
        "plt.plot_date(date,  women,  linestyle='solid',  color='pink' ,label='women')\n",
        "plt.plot_date(date,   men,    linestyle='solid',   color='blue'  ,label='men')\n",
        "plt.title('Austria')\n",
        "plt.xlabel('date')\n",
        "plt.ylabel('unemployed persons')\n",
        "plt.legend(frameon=True,fontsize='large')\n",
        "plt.tight_layout()\n",
        "plt.savefig('gender.png')\n",
        "plt.show()\n"
      ],
      "execution_count": 23,
      "outputs": [
        {
          "output_type": "display_data",
          "data": {
            "image/png": "[encoded data removed]",
            "text/plain": [
              "<Figure size 576x396 with 1 Axes>"
            ]
          },
          "metadata": {
            "tags": []
          }
        }
      ]
    },
    {
      "cell_type": "markdown",
      "metadata": {
        "id": "9do2bsygwKCI",
        "colab_type": "text"
      },
      "source": [
        ""
      ]
    },
    {
      "cell_type": "code",
      "metadata": {
        "id": "_KCsh8YMstL7",
        "colab_type": "code",
        "colab": {}
      },
      "source": [
        "cols=data.columns\n",
        "cols"
      ],
      "execution_count": 0,
      "outputs": []
    },
    {
      "cell_type": "code",
      "metadata": {
        "id": "qQiurWhIrxq8",
        "colab_type": "code",
        "colab": {}
      },
      "source": [
        "date=data['date']\n",
        "vienna=data['Vienna']\n",
        "laustria=data['Lower Austria']\n",
        "uaustria=data['Upper Austria']\n",
        "vorarlberg=data['Vorarlberg']\n",
        "plt.plot_date(date,  vienna,  linestyle='solid',  color='blue' ,label='Vienna')\n",
        "plt.plot_date(date,  laustria,    linestyle='dotted',   color='black'  ,label='Lower Austria')\n",
        "plt.plot_date(date,  uaustria,    linestyle='solid',   color='yellow'  ,label='Upper Austria')\n",
        "plt.plot_date(date,vorarlberg,   linestyle='dotted',   color='grey',   label='Vorarlberg')\n",
        "plt.title('Austria')\n",
        "plt.xlabel('date')\n",
        "plt.ylabel('unemployed persons')\n",
        "plt.legend()\n",
        "plt.tight_layout()\n",
        "plt.show()\n"
      ],
      "execution_count": 0,
      "outputs": []
    },
    {
      "cell_type": "code",
      "metadata": {
        "id": "ds92i4VhxgjN",
        "colab_type": "code",
        "colab": {}
      },
      "source": [
        "date=data['date']\n",
        "carinthia=data['Carinthia']\n",
        "burgenland=data['Burgenland']\n",
        "styria=data['Styria']\n",
        "salzburg=data['Salzburg']\n",
        "tyrol=data['Tyrol']\n",
        "plt.plot_date(date,carinthia,linestyle='dotted' ,color='grey' ,label='Carinthia')\n",
        "plt.plot_date(date,burgenland,linestyle='solid' ,color='yellow' ,label='Burgenland')\n",
        "plt.plot_date(date,styria,linestyle='solid' ,color='black', label='Styria')\n",
        "plt.plot_date(date,salzburg,linestyle='dotted' ,color='blue', label='Salzburg')\n",
        "plt.plot_date(date,tyrol,linestyle='solid' ,color='pink', label='Tyrol')\n",
        "\n",
        "plt.title('Austria')\n",
        "plt.xlabel('date')\n",
        "plt.ylabel('unemployed persons')\n",
        "plt.legend()\n",
        "plt.tight_layout()\n",
        "plt.show()\n"
      ],
      "execution_count": 0,
      "outputs": []
    },
    {
      "cell_type": "code",
      "metadata": {
        "id": "PWbOoPS8BGhl",
        "colab_type": "code",
        "colab": {}
      },
      "source": [
        "sector=pd.read_excel('/content/Austria.xlsx',  sheet_name='Sheet3' )"
      ],
      "execution_count": 0,
      "outputs": []
    },
    {
      "cell_type": "code",
      "metadata": {
        "id": "09PkwWkZ61f8",
        "colab_type": "code",
        "colab": {}
      },
      "source": [
        "data=pd.read_excel('/content/share of sector Austria.xlsx', sheet_name='Sheet1')"
      ],
      "execution_count": 0,
      "outputs": []
    },
    {
      "cell_type": "code",
      "metadata": {
        "id": "lXlsfeKdFDC3",
        "colab_type": "code",
        "colab": {}
      },
      "source": [
        "data"
      ],
      "execution_count": 0,
      "outputs": []
    },
    {
      "cell_type": "code",
      "metadata": {
        "id": "CwE_H2sYdLuZ",
        "colab_type": "code",
        "colab": {}
      },
      "source": [
        "sector=['Manufacturing','Construction','Trade','Transport','Accomodation','Health']\n",
        "male=data['M(thousands']\n",
        "female=data['F (thousand)']"
      ],
      "execution_count": 0,
      "outputs": []
    },
    {
      "cell_type": "code",
      "metadata": {
        "id": "K9oZUZfpeKC-",
        "colab_type": "code",
        "outputId": "560b96a9-2451-4101-8335-1c476cc137cd",
        "colab": {
          "base_uri": "https://localhost:8080/",
          "height": 362
        }
      },
      "source": [
        "plt.style.use('seaborn')\n",
        "width=0.5\n",
        "fig, ax=plt.subplots()\n",
        "ax.bar(sector,male,width,label='Men',color='#263F6A')\n",
        "ax.bar(sector,female,width,bottom=male,label='Women')\n",
        "ax.set_ylabel('Number of workers per sector(thousands)')\n",
        "ax.set_title('Gender ratio by  Sectors, Austria')\n",
        "ax.legend(fontsize='large')\n",
        "plt.savefig('genderratio.png')\n",
        "plt.show()\n"
      ],
      "execution_count": 28,
      "outputs": [
        {
          "output_type": "display_data",
          "data": {
            "image/png": "[encoded data removed]",
            "text/plain": [
              "<Figure size 576x396 with 1 Axes>"
            ]
          },
          "metadata": {
            "tags": []
          }
        }
      ]
    },
    {
      "cell_type": "code",
      "metadata": {
        "id": "J4jqz8IeDTTX",
        "colab_type": "code",
        "outputId": "2836e41c-ca33-4974-e737-1c8f75333349",
        "colab": {
          "base_uri": "https://localhost:8080/",
          "height": 198
        }
      },
      "source": [
        "import numpy as np\n",
        "data2=data.iloc[1:6,4:8]\n",
        "data2"
      ],
      "execution_count": 0,
      "outputs": [
        {
          "output_type": "execute_result",
          "data": {
            "text/html": [
              "<div>\n",
              "<style scoped>\n",
              "    .dataframe tbody tr th:only-of-type {\n",
              "        vertical-align: middle;\n",
              "    }\n",
              "\n",
              "    .dataframe tbody tr th {\n",
              "        vertical-align: top;\n",
              "    }\n",
              "\n",
              "    .dataframe thead th {\n",
              "        text-align: right;\n",
              "    }\n",
              "</style>\n",
              "<table border=\"1\" class=\"dataframe\">\n",
              "  <thead>\n",
              "    <tr style=\"text-align: right;\">\n",
              "      <th></th>\n",
              "      <th>F (thousand)</th>\n",
              "      <th>F(percentage)</th>\n",
              "      <th>M(thousands</th>\n",
              "      <th>M(percent</th>\n",
              "    </tr>\n",
              "  </thead>\n",
              "  <tbody>\n",
              "    <tr>\n",
              "      <th>1</th>\n",
              "      <td>63.076</td>\n",
              "      <td>0.030537</td>\n",
              "      <td>91.780</td>\n",
              "      <td>0.038511</td>\n",
              "    </tr>\n",
              "    <tr>\n",
              "      <th>2</th>\n",
              "      <td>1.253</td>\n",
              "      <td>0.000607</td>\n",
              "      <td>5.473</td>\n",
              "      <td>0.002296</td>\n",
              "    </tr>\n",
              "    <tr>\n",
              "      <th>3</th>\n",
              "      <td>180.222</td>\n",
              "      <td>0.087251</td>\n",
              "      <td>529.021</td>\n",
              "      <td>0.221980</td>\n",
              "    </tr>\n",
              "    <tr>\n",
              "      <th>4</th>\n",
              "      <td>10.441</td>\n",
              "      <td>0.005055</td>\n",
              "      <td>40.295</td>\n",
              "      <td>0.016908</td>\n",
              "    </tr>\n",
              "    <tr>\n",
              "      <th>5</th>\n",
              "      <td>46.769</td>\n",
              "      <td>0.022642</td>\n",
              "      <td>300.688</td>\n",
              "      <td>0.126170</td>\n",
              "    </tr>\n",
              "  </tbody>\n",
              "</table>\n",
              "</div>"
            ],
            "text/plain": [
              "   F (thousand)  F(percentage)  M(thousands  M(percent\n",
              "1        63.076       0.030537       91.780   0.038511\n",
              "2         1.253       0.000607        5.473   0.002296\n",
              "3       180.222       0.087251      529.021   0.221980\n",
              "4        10.441       0.005055       40.295   0.016908\n",
              "5        46.769       0.022642      300.688   0.126170"
            ]
          },
          "metadata": {
            "tags": []
          },
          "execution_count": 56
        }
      ]
    },
    {
      "cell_type": "code",
      "metadata": {
        "id": "BAE82y7pSvTf",
        "colab_type": "code",
        "outputId": "4fdc7b34-6873-4283-ae1b-2e6aa8a48685",
        "colab": {
          "base_uri": "https://localhost:8080/",
          "height": 132
        }
      },
      "source": [
        "sector=['Agriculture','Mining','Manufacturing','Utilities','Construction']\n",
        "male=data2['M(thousands']\n",
        "female=data2['F (thousand)']\n",
        "male"
      ],
      "execution_count": 0,
      "outputs": [
        {
          "output_type": "execute_result",
          "data": {
            "text/plain": [
              "1     91.780\n",
              "2      5.473\n",
              "3    529.021\n",
              "4     40.295\n",
              "5    300.688\n",
              "Name: M(thousands, dtype: float64"
            ]
          },
          "metadata": {
            "tags": []
          },
          "execution_count": 58
        }
      ]
    },
    {
      "cell_type": "code",
      "metadata": {
        "id": "Vgktcmb2GTEO",
        "colab_type": "code",
        "outputId": "9b49d8db-3ffc-46aa-a24f-35560d002f42",
        "colab": {
          "base_uri": "https://localhost:8080/",
          "height": 362
        }
      },
      "source": [
        "plt.style.use('seaborn')\n",
        "width=0.5\n",
        "fig, ax=plt.subplots()\n",
        "ax.bar(sector,male,width,label='Men',color='#263F6A')\n",
        "ax.bar(sector,female,width,bottom=male,label='Women')\n",
        "ax.set_ylabel('No of workers per sector,(thousands)')\n",
        "ax.set_title('Gender ratio by  Sectors, Austria')\n",
        "ax.legend()\n",
        "plt.show()"
      ],
      "execution_count": 0,
      "outputs": [
        {
          "output_type": "display_data",
          "data": {
            "image/png": "[encoded data removed]",
            "text/plain": [
              "<Figure size 576x396 with 1 Axes>"
            ]
          },
          "metadata": {
            "tags": []
          }
        }
      ]
    },
    {
      "cell_type": "code",
      "metadata": {
        "id": "vpEdZ_93BDFt",
        "colab_type": "code",
        "outputId": "dc1ee847-777d-4cd1-8856-c0dd2f452883",
        "colab": {
          "base_uri": "https://localhost:8080/",
          "height": 198
        }
      },
      "source": [
        "data3=data.iloc[6:11,4:8]\n",
        "data3"
      ],
      "execution_count": 0,
      "outputs": [
        {
          "output_type": "execute_result",
          "data": {
            "text/html": [
              "<div>\n",
              "<style scoped>\n",
              "    .dataframe tbody tr th:only-of-type {\n",
              "        vertical-align: middle;\n",
              "    }\n",
              "\n",
              "    .dataframe tbody tr th {\n",
              "        vertical-align: top;\n",
              "    }\n",
              "\n",
              "    .dataframe thead th {\n",
              "        text-align: right;\n",
              "    }\n",
              "</style>\n",
              "<table border=\"1\" class=\"dataframe\">\n",
              "  <thead>\n",
              "    <tr style=\"text-align: right;\">\n",
              "      <th></th>\n",
              "      <th>F (thousand)</th>\n",
              "      <th>F(percentage)</th>\n",
              "      <th>M(thousands</th>\n",
              "      <th>M(percent</th>\n",
              "    </tr>\n",
              "  </thead>\n",
              "  <tbody>\n",
              "    <tr>\n",
              "      <th>6</th>\n",
              "      <td>347.964</td>\n",
              "      <td>0.168461</td>\n",
              "      <td>288.241</td>\n",
              "      <td>0.120947</td>\n",
              "    </tr>\n",
              "    <tr>\n",
              "      <th>7</th>\n",
              "      <td>95.366</td>\n",
              "      <td>0.046170</td>\n",
              "      <td>275.055</td>\n",
              "      <td>0.115414</td>\n",
              "    </tr>\n",
              "    <tr>\n",
              "      <th>8</th>\n",
              "      <td>158.158</td>\n",
              "      <td>0.076569</td>\n",
              "      <td>112.467</td>\n",
              "      <td>0.047192</td>\n",
              "    </tr>\n",
              "    <tr>\n",
              "      <th>9</th>\n",
              "      <td>68.133</td>\n",
              "      <td>0.032985</td>\n",
              "      <td>72.989</td>\n",
              "      <td>0.030627</td>\n",
              "    </tr>\n",
              "    <tr>\n",
              "      <th>10</th>\n",
              "      <td>244.513</td>\n",
              "      <td>0.118377</td>\n",
              "      <td>234.733</td>\n",
              "      <td>0.098495</td>\n",
              "    </tr>\n",
              "  </tbody>\n",
              "</table>\n",
              "</div>"
            ],
            "text/plain": [
              "    F (thousand)  F(percentage)  M(thousands  M(percent\n",
              "6        347.964       0.168461      288.241   0.120947\n",
              "7         95.366       0.046170      275.055   0.115414\n",
              "8        158.158       0.076569      112.467   0.047192\n",
              "9         68.133       0.032985       72.989   0.030627\n",
              "10       244.513       0.118377      234.733   0.098495"
            ]
          },
          "metadata": {
            "tags": []
          },
          "execution_count": 11
        }
      ]
    },
    {
      "cell_type": "code",
      "metadata": {
        "id": "DpL-Vocbqhkv",
        "colab_type": "code",
        "colab": {}
      },
      "source": [
        "sector=[' trade ','Transport and  Comm','Food service','Finance and insurance','Real state Business']\n",
        "male=data3['M(thousands']\n",
        "female=data3['F (thousand)']"
      ],
      "execution_count": 0,
      "outputs": []
    },
    {
      "cell_type": "code",
      "metadata": {
        "id": "5afiCFeisV71",
        "colab_type": "code",
        "outputId": "5c7526ab-04c4-44ca-e4ab-6d9c7b31941c",
        "colab": {
          "base_uri": "https://localhost:8080/",
          "height": 362
        }
      },
      "source": [
        "plt.style.use('seaborn')\n",
        "width=0.5\n",
        "fig, ax=plt.subplots()\n",
        "ax.bar(sector,male,width,label='Men',color='#263F6A')\n",
        "ax.bar(sector,female,width,bottom=male,label='Women')\n",
        "ax.set_ylabel('No. of workers in thousands ')\n",
        "ax.set_title('Gender ratio by Sectors, Austria')\n",
        "ax.legend()\n",
        "plt.show()"
      ],
      "execution_count": 0,
      "outputs": [
        {
          "output_type": "display_data",
          "data": {
            "image/png": "[encoded data removed]",
            "text/plain": [
              "<Figure size 576x396 with 1 Axes>"
            ]
          },
          "metadata": {
            "tags": []
          }
        }
      ]
    },
    {
      "cell_type": "code",
      "metadata": {
        "id": "cufFWoe8IJL8",
        "colab_type": "code",
        "outputId": "2f3cb526-294f-4ffe-bdb4-18e60e1e98eb",
        "colab": {
          "base_uri": "https://localhost:8080/",
          "height": 94
        }
      },
      "source": [
        "sector=['Education','Health care and social work','Other services']\n",
        "data4=data.iloc[12:15,4:8]\n",
        "data4\n",
        "male=data4['M(thousands']\n",
        "female=data4['F (thousand)']\n",
        "male"
      ],
      "execution_count": 0,
      "outputs": [
        {
          "output_type": "execute_result",
          "data": {
            "text/plain": [
              "12     87.952\n",
              "13    109.152\n",
              "14     80.944\n",
              "Name: M(thousands, dtype: float64"
            ]
          },
          "metadata": {
            "tags": []
          },
          "execution_count": 39
        }
      ]
    },
    {
      "cell_type": "code",
      "metadata": {
        "id": "4hoB9mohPuoJ",
        "colab_type": "code",
        "outputId": "6799f1e9-137b-4cbf-d1d4-594d858dd032",
        "colab": {
          "base_uri": "https://localhost:8080/",
          "height": 362
        }
      },
      "source": [
        "plt.style.use('seaborn')\n",
        "width=0.5\n",
        "fig, ax=plt.subplots()\n",
        "ax.bar(sector,male,width,label='Men',color='#263F6A')\n",
        "ax.bar(sector,female,width,bottom=male,label='Women')\n",
        "ax.set_ylabel('No.of workers in sectors in thousands')\n",
        "ax.set_title('Gender representation of Sectors, Austria')\n",
        "ax.legend()\n",
        "plt.show()"
      ],
      "execution_count": 0,
      "outputs": [
        {
          "output_type": "display_data",
          "data": {
            "image/png": "[encoded data removed]",
            "text/plain": [
              "<Figure size 576x396 with 1 Axes>"
            ]
          },
          "metadata": {
            "tags": []
          }
        }
      ]
    }
  ]
}