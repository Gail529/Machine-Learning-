{
  "nbformat": 4,
  "nbformat_minor": 0,
  "metadata": {
    "colab": {
      "name": "Austria.ipynb",
      "provenance": [],
      "collapsed_sections": [],
      "authorship_tag": "ABX9TyOZB7FN40ME6kYShO2+iwfC",
      "include_colab_link": true
    },
    "kernelspec": {
      "name": "python3",
      "display_name": "Python 3"
    }
  },
  "cells": [
    {
      "cell_type": "markdown",
      "metadata": {
        "id": "view-in-github",
        "colab_type": "text"
      },
      "source": [
        "<a href=\"https://colab.research.google.com/github/Gail529/Machine-Learning-/blob/master/Austria.ipynb\" target=\"_parent\"><img src=\"https://colab.research.google.com/assets/colab-badge.svg\" alt=\"Open In Colab\"/></a>"
      ]
    },
    {
      "cell_type": "code",
      "metadata": {
        "id": "WVxjoSFGw3-B",
        "colab_type": "code",
        "colab": {}
      },
      "source": [
        "import pandas as pd\n",
        "import matplotlib.pyplot as plt\n",
        "\n"
      ],
      "execution_count": 0,
      "outputs": []
    },
    {
      "cell_type": "code",
      "metadata": {
        "id": "d9nqmmZJeCVg",
        "colab_type": "code",
        "colab": {}
      },
      "source": [
        "data=pd.read_excel('/content/Austria.xlsx' , sheet_name='Sheet2')"
      ],
      "execution_count": 0,
      "outputs": []
    },
    {
      "cell_type": "code",
      "metadata": {
        "id": "KHSLrmvYfon5",
        "colab_type": "code",
        "outputId": "2c78cf21-0612-4f1d-b90f-3553a2c9e103",
        "colab": {
          "base_uri": "https://localhost:8080/",
          "height": 356
        }
      },
      "source": [
        "data.head(5)\n"
      ],
      "execution_count": 3,
      "outputs": [
        {
          "output_type": "execute_result",
          "data": {
            "text/html": [
              "<div>\n",
              "<style scoped>\n",
              "    .dataframe tbody tr th:only-of-type {\n",
              "        vertical-align: middle;\n",
              "    }\n",
              "\n",
              "    .dataframe tbody tr th {\n",
              "        vertical-align: top;\n",
              "    }\n",
              "\n",
              "    .dataframe thead th {\n",
              "        text-align: right;\n",
              "    }\n",
              "</style>\n",
              "<table border=\"1\" class=\"dataframe\">\n",
              "  <thead>\n",
              "    <tr style=\"text-align: right;\">\n",
              "      <th></th>\n",
              "      <th>date</th>\n",
              "      <th>Women</th>\n",
              "      <th>Men</th>\n",
              "      <th>Vienna</th>\n",
              "      <th>Lower Austria</th>\n",
              "      <th>Vorarlberg</th>\n",
              "      <th>Carinthia</th>\n",
              "      <th>Burgenland</th>\n",
              "      <th>Upper Austria</th>\n",
              "      <th>Styria</th>\n",
              "      <th>Salzburg</th>\n",
              "      <th>Tyrol</th>\n",
              "      <th>Nationals</th>\n",
              "      <th>Foreigners</th>\n",
              "      <th>25 and below</th>\n",
              "      <th>25 to 49</th>\n",
              "      <th>50 and above</th>\n",
              "      <th>Disabled people</th>\n",
              "      <th>People without health restrictions</th>\n",
              "      <th>People with other health limitations</th>\n",
              "    </tr>\n",
              "  </thead>\n",
              "  <tbody>\n",
              "    <tr>\n",
              "      <th>0</th>\n",
              "      <td>2020-04</td>\n",
              "      <td>245958.0</td>\n",
              "      <td>276295.0</td>\n",
              "      <td>178725.0</td>\n",
              "      <td>80199.0</td>\n",
              "      <td>17928.0</td>\n",
              "      <td>36067.0</td>\n",
              "      <td>13569.0</td>\n",
              "      <td>58115.0</td>\n",
              "      <td>62889.0</td>\n",
              "      <td>29833.0</td>\n",
              "      <td>44928.0</td>\n",
              "      <td>335666.0</td>\n",
              "      <td>186587.0</td>\n",
              "      <td>61216.0</td>\n",
              "      <td>310175.0</td>\n",
              "      <td>150862.0</td>\n",
              "      <td>15742.0</td>\n",
              "      <td>422608.0</td>\n",
              "      <td>83903.0</td>\n",
              "    </tr>\n",
              "    <tr>\n",
              "      <th>1</th>\n",
              "      <td>2020-03</td>\n",
              "      <td>219193.0</td>\n",
              "      <td>285152.0</td>\n",
              "      <td>165047.0</td>\n",
              "      <td>78440.0</td>\n",
              "      <td>15788.0</td>\n",
              "      <td>37266.0</td>\n",
              "      <td>13814.0</td>\n",
              "      <td>57808.0</td>\n",
              "      <td>63998.0</td>\n",
              "      <td>29107.0</td>\n",
              "      <td>43077.0</td>\n",
              "      <td>327151.0</td>\n",
              "      <td>177194.0</td>\n",
              "      <td>57275.0</td>\n",
              "      <td>299220.0</td>\n",
              "      <td>147850.0</td>\n",
              "      <td>15038.0</td>\n",
              "      <td>409127.0</td>\n",
              "      <td>80180.0</td>\n",
              "    </tr>\n",
              "    <tr>\n",
              "      <th>2</th>\n",
              "      <td>2020-02</td>\n",
              "      <td>133204.0</td>\n",
              "      <td>200783.0</td>\n",
              "      <td>119826.0</td>\n",
              "      <td>59141.0</td>\n",
              "      <td>9706.0</td>\n",
              "      <td>24681.0</td>\n",
              "      <td>10614.0</td>\n",
              "      <td>40638.0</td>\n",
              "      <td>40942.0</td>\n",
              "      <td>13132.0</td>\n",
              "      <td>15307.0</td>\n",
              "      <td>225561.0</td>\n",
              "      <td>108426.0</td>\n",
              "      <td>32293.0</td>\n",
              "      <td>190603.0</td>\n",
              "      <td>111091.0</td>\n",
              "      <td>13563.0</td>\n",
              "      <td>252290.0</td>\n",
              "      <td>68134.0</td>\n",
              "    </tr>\n",
              "    <tr>\n",
              "      <th>3</th>\n",
              "      <td>2020-01</td>\n",
              "      <td>136430.0</td>\n",
              "      <td>218905.0</td>\n",
              "      <td>122353.0</td>\n",
              "      <td>62855.0</td>\n",
              "      <td>10163.0</td>\n",
              "      <td>27551.0</td>\n",
              "      <td>11339.0</td>\n",
              "      <td>43789.0</td>\n",
              "      <td>44973.0</td>\n",
              "      <td>14552.0</td>\n",
              "      <td>17760.0</td>\n",
              "      <td>240032.0</td>\n",
              "      <td>115303.0</td>\n",
              "      <td>35332.0</td>\n",
              "      <td>204657.0</td>\n",
              "      <td>115346.0</td>\n",
              "      <td>13745.0</td>\n",
              "      <td>272635.0</td>\n",
              "      <td>68955.0</td>\n",
              "    </tr>\n",
              "    <tr>\n",
              "      <th>4</th>\n",
              "      <td>2019-12</td>\n",
              "      <td>136721.0</td>\n",
              "      <td>213704.0</td>\n",
              "      <td>125887.0</td>\n",
              "      <td>60639.0</td>\n",
              "      <td>9935.0</td>\n",
              "      <td>26724.0</td>\n",
              "      <td>10774.0</td>\n",
              "      <td>43340.0</td>\n",
              "      <td>43856.0</td>\n",
              "      <td>12857.0</td>\n",
              "      <td>15783.0</td>\n",
              "      <td>231591.0</td>\n",
              "      <td>118204.0</td>\n",
              "      <td>35878.0</td>\n",
              "      <td>203051.0</td>\n",
              "      <td>110866.0</td>\n",
              "      <td>13757.0</td>\n",
              "      <td>266897.0</td>\n",
              "      <td>69141.0</td>\n",
              "    </tr>\n",
              "  </tbody>\n",
              "</table>\n",
              "</div>"
            ],
            "text/plain": [
              "      date  ...  People with other health limitations\n",
              "0  2020-04  ...                               83903.0\n",
              "1  2020-03  ...                               80180.0\n",
              "2  2020-02  ...                               68134.0\n",
              "3  2020-01  ...                               68955.0\n",
              "4  2019-12  ...                               69141.0\n",
              "\n",
              "[5 rows x 20 columns]"
            ]
          },
          "metadata": {
            "tags": []
          },
          "execution_count": 3
        }
      ]
    },
    {
      "cell_type": "code",
      "metadata": {
        "id": "dsUTGX0ggWwX",
        "colab_type": "code",
        "outputId": "b35b4c6b-74fa-4e24-90d7-ca99cbe345f3",
        "colab": {
          "base_uri": "https://localhost:8080/",
          "height": 552
        }
      },
      "source": [
        "data.info()"
      ],
      "execution_count": 0,
      "outputs": [
        {
          "output_type": "stream",
          "text": [
            "<class 'pandas.core.frame.DataFrame'>\n",
            "RangeIndex: 6 entries, 0 to 5\n",
            "Data columns (total 21 columns):\n",
            " #   Column                                Non-Null Count  Dtype  \n",
            "---  ------                                --------------  -----  \n",
            " 0   date                                  6 non-null      object \n",
            " 1   Women                                 6 non-null      int64  \n",
            " 2   Men                                   6 non-null      int64  \n",
            " 3   Vienna                                6 non-null      int64  \n",
            " 4   Lower Austria                         6 non-null      int64  \n",
            " 5   Vorarlberg                            6 non-null      int64  \n",
            " 6   Carinthia                             6 non-null      int64  \n",
            " 7   Burgenland                            6 non-null      int64  \n",
            " 8   Upper Austria                         6 non-null      int64  \n",
            " 9   Styria                                6 non-null      int64  \n",
            " 10  Salzburg                              6 non-null      int64  \n",
            " 11  Tyrol                                 6 non-null      int64  \n",
            " 12  Nationals                             0 non-null      float64\n",
            " 13  Foreigners                            0 non-null      float64\n",
            " 14   25 and below                         0 non-null      float64\n",
            " 15  25 to 49                              0 non-null      float64\n",
            " 16  50 and above                          0 non-null      float64\n",
            " 17  Disabled people                       0 non-null      float64\n",
            " 18  People without health restrictions    0 non-null      float64\n",
            " 19  Unnamed: 19                           0 non-null      float64\n",
            " 20  People with other health limitations  0 non-null      float64\n",
            "dtypes: float64(9), int64(11), object(1)\n",
            "memory usage: 1.1+ KB\n"
          ],
          "name": "stdout"
        }
      ]
    },
    {
      "cell_type": "code",
      "metadata": {
        "id": "ntc6IO7agiyB",
        "colab_type": "code",
        "colab": {}
      },
      "source": [
        "data.describe()"
      ],
      "execution_count": 0,
      "outputs": []
    },
    {
      "cell_type": "code",
      "metadata": {
        "id": "__Fck9EphCmy",
        "colab_type": "code",
        "outputId": "b2351130-29fe-4f8e-9891-9e14b3b304bd",
        "colab": {
          "base_uri": "https://localhost:8080/",
          "height": 425
        }
      },
      "source": [
        "plt.style.use('seaborn')\n",
        "date=data['date']\n",
        "women=data['Women']\n",
        "men=data['Men']\n",
        "plt.plot_date(date,  women,  linestyle='solid',  color='pink' ,label='women')\n",
        "plt.plot_date(date,   men,    linestyle='solid',   color='blue'  ,label='men')\n",
        "plt.title('Austria')\n",
        "plt.xlabel('date')\n",
        "plt.ylabel('unemployed persons')\n",
        "plt.legend()\n",
        "plt.tight_layout()\n",
        "plt.show()\n"
      ],
      "execution_count": 0,
      "outputs": [
        {
          "output_type": "display_data",
          "data": {
            "image/png": "[encoded data removed]",
            "text/plain": [
              "<Figure size 576x396 with 1 Axes>"
            ]
          },
          "metadata": {
            "tags": []
          }
        }
      ]
    },
    {
      "cell_type": "markdown",
      "metadata": {
        "id": "9do2bsygwKCI",
        "colab_type": "text"
      },
      "source": [
        ""
      ]
    },
    {
      "cell_type": "code",
      "metadata": {
        "id": "_KCsh8YMstL7",
        "colab_type": "code",
        "outputId": "7d977f02-4e7f-45af-ad57-15a68ff37503",
        "colab": {
          "base_uri": "https://localhost:8080/",
          "height": 151
        }
      },
      "source": [
        "cols=data.columns\n",
        "cols"
      ],
      "execution_count": 0,
      "outputs": [
        {
          "output_type": "execute_result",
          "data": {
            "text/plain": [
              "Index(['date', 'Women', 'Men', 'Vienna', 'Lower Austria', 'Vorarlberg',\n",
              "       'Carinthia', 'Burgenland', 'Upper Austria', 'Styria', 'Salzburg',\n",
              "       'Tyrol', 'Nationals', 'Foreigners', ' 25 and below', '25 to 49',\n",
              "       '50 and above ', 'Disabled people',\n",
              "       'People without health restrictions', 'Unnamed: 19',\n",
              "       'People with other health limitations'],\n",
              "      dtype='object')"
            ]
          },
          "metadata": {
            "tags": []
          },
          "execution_count": 29
        }
      ]
    },
    {
      "cell_type": "code",
      "metadata": {
        "id": "qQiurWhIrxq8",
        "colab_type": "code",
        "outputId": "cd4e58dc-9034-45d6-b17b-8122c305cb5a",
        "colab": {
          "base_uri": "https://localhost:8080/",
          "height": 405
        }
      },
      "source": [
        "date=data['date']\n",
        "vienna=data['Vienna']\n",
        "laustria=data['Lower Austria']\n",
        "uaustria=data['Upper Austria']\n",
        "vorarlberg=data['Vorarlberg']\n",
        "plt.plot_date(date,  vienna,  linestyle='solid',  color='blue' ,label='Vienna')\n",
        "plt.plot_date(date,  laustria,    linestyle='dotted',   color='black'  ,label='Lower Austria')\n",
        "plt.plot_date(date,  uaustria,    linestyle='solid',   color='yellow'  ,label='Upper Austria')\n",
        "plt.plot_date(date,vorarlberg,   linestyle='dotted',   color='grey',   label='Vorarlberg')\n",
        "plt.title('Austria')\n",
        "plt.xlabel('date')\n",
        "plt.ylabel('unemployed persons')\n",
        "plt.legend()\n",
        "plt.tight_layout()\n",
        "plt.show()\n"
      ],
      "execution_count": 0,
      "outputs": [
        {
          "output_type": "display_data",
          "data": {
            "image/png": "[encoded data removed]",
            "text/plain": [
              "<Figure size 576x396 with 1 Axes>"
            ]
          },
          "metadata": {
            "tags": []
          }
        }
      ]
    },
    {
      "cell_type": "code",
      "metadata": {
        "id": "ds92i4VhxgjN",
        "colab_type": "code",
        "outputId": "32db4e13-48ce-433e-e8cd-f9ed7edef4a9",
        "colab": {
          "base_uri": "https://localhost:8080/",
          "height": 405
        }
      },
      "source": [
        "date=data['date']\n",
        "carinthia=data['Carinthia']\n",
        "burgenland=data['Burgenland']\n",
        "styria=data['Styria']\n",
        "salzburg=data['Salzburg']\n",
        "tyrol=data['Tyrol']\n",
        "plt.plot_date(date,carinthia,linestyle='dotted' ,color='grey' ,label='Carinthia')\n",
        "plt.plot_date(date,burgenland,linestyle='solid' ,color='yellow' ,label='Burgenland')\n",
        "plt.plot_date(date,styria,linestyle='solid' ,color='black', label='Styria')\n",
        "plt.plot_date(date,salzburg,linestyle='dotted' ,color='blue', label='Salzburg')\n",
        "plt.plot_date(date,tyrol,linestyle='solid' ,color='pink', label='Tyrol')\n",
        "\n",
        "plt.title('Austria')\n",
        "plt.xlabel('date')\n",
        "plt.ylabel('unemployed persons')\n",
        "plt.legend()\n",
        "plt.tight_layout()\n",
        "plt.show()\n"
      ],
      "execution_count": 0,
      "outputs": [
        {
          "output_type": "display_data",
          "data": {
            "image/png": "[encoded data removed]",
            "text/plain": [
              "<Figure size 576x396 with 1 Axes>"
            ]
          },
          "metadata": {
            "tags": []
          }
        }
      ]
    },
    {
      "cell_type": "code",
      "metadata": {
        "id": "PWbOoPS8BGhl",
        "colab_type": "code",
        "colab": {}
      },
      "source": [
        "sector=pd.read_excel('/content/Austria.xlsx',  sheet_name='Sheet3' )"
      ],
      "execution_count": 0,
      "outputs": []
    },
    {
      "cell_type": "code",
      "metadata": {
        "id": "avkGDocGFpfb",
        "colab_type": "code",
        "outputId": "6045e63e-a7a5-4312-af65-9071fe33ca67",
        "colab": {
          "base_uri": "https://localhost:8080/",
          "height": 250
        }
      },
      "source": [
        "sector.head(5)"
      ],
      "execution_count": 44,
      "outputs": [
        {
          "output_type": "execute_result",
          "data": {
            "text/html": [
              "<div>\n",
              "<style scoped>\n",
              "    .dataframe tbody tr th:only-of-type {\n",
              "        vertical-align: middle;\n",
              "    }\n",
              "\n",
              "    .dataframe tbody tr th {\n",
              "        vertical-align: top;\n",
              "    }\n",
              "\n",
              "    .dataframe thead th {\n",
              "        text-align: right;\n",
              "    }\n",
              "</style>\n",
              "<table border=\"1\" class=\"dataframe\">\n",
              "  <thead>\n",
              "    <tr style=\"text-align: right;\">\n",
              "      <th></th>\n",
              "      <th>Unnamed: 0</th>\n",
              "      <th>Manufacture</th>\n",
              "      <th>Construction</th>\n",
              "      <th>Trade</th>\n",
              "      <th>Transportation and storage</th>\n",
              "      <th>Accomodation and gastronomy</th>\n",
              "      <th>Health and Social care</th>\n",
              "      <th>Temporary employment</th>\n",
              "      <th>TOTAL UNEMPLOYED</th>\n",
              "    </tr>\n",
              "  </thead>\n",
              "  <tbody>\n",
              "    <tr>\n",
              "      <th>0</th>\n",
              "      <td>2020-04</td>\n",
              "      <td>37416</td>\n",
              "      <td>36326</td>\n",
              "      <td>69981</td>\n",
              "      <td>30292</td>\n",
              "      <td>114656</td>\n",
              "      <td>12466</td>\n",
              "      <td>48395</td>\n",
              "      <td>522253</td>\n",
              "    </tr>\n",
              "    <tr>\n",
              "      <th>1</th>\n",
              "      <td>2020-03</td>\n",
              "      <td>33933</td>\n",
              "      <td>55816</td>\n",
              "      <td>62820</td>\n",
              "      <td>28567</td>\n",
              "      <td>97673</td>\n",
              "      <td>10494</td>\n",
              "      <td>45327</td>\n",
              "      <td>504345</td>\n",
              "    </tr>\n",
              "    <tr>\n",
              "      <th>2</th>\n",
              "      <td>2020-02</td>\n",
              "      <td>26860</td>\n",
              "      <td>47420</td>\n",
              "      <td>45779</td>\n",
              "      <td>17224</td>\n",
              "      <td>33442</td>\n",
              "      <td>8068</td>\n",
              "      <td>33945</td>\n",
              "      <td>333987</td>\n",
              "    </tr>\n",
              "    <tr>\n",
              "      <th>3</th>\n",
              "      <td>2020-01</td>\n",
              "      <td>28455</td>\n",
              "      <td>58053</td>\n",
              "      <td>47336</td>\n",
              "      <td>17831</td>\n",
              "      <td>34186</td>\n",
              "      <td>8197</td>\n",
              "      <td>35330</td>\n",
              "      <td>355335</td>\n",
              "    </tr>\n",
              "    <tr>\n",
              "      <th>4</th>\n",
              "      <td>2019-12</td>\n",
              "      <td>28243</td>\n",
              "      <td>51682</td>\n",
              "      <td>46499</td>\n",
              "      <td>16922</td>\n",
              "      <td>32316</td>\n",
              "      <td>8428</td>\n",
              "      <td>39177</td>\n",
              "      <td>349795</td>\n",
              "    </tr>\n",
              "  </tbody>\n",
              "</table>\n",
              "</div>"
            ],
            "text/plain": [
              "  Unnamed: 0  Manufacture   ...  Temporary employment  TOTAL UNEMPLOYED\n",
              "0    2020-04         37416  ...                 48395            522253\n",
              "1    2020-03         33933  ...                 45327            504345\n",
              "2    2020-02         26860  ...                 33945            333987\n",
              "3    2020-01         28455  ...                 35330            355335\n",
              "4    2019-12         28243  ...                 39177            349795\n",
              "\n",
              "[5 rows x 9 columns]"
            ]
          },
          "metadata": {
            "tags": []
          },
          "execution_count": 44
        }
      ]
    },
    {
      "cell_type": "code",
      "metadata": {
        "id": "ENYHp5uMGX3m",
        "colab_type": "code",
        "colab": {
          "base_uri": "https://localhost:8080/",
          "height": 280
        },
        "outputId": "a5ee5da0-cad5-401e-cad2-527fe9548868"
      },
      "source": [
        "sector.rename(columns={\"Manufacture\t\":\"manuf\"})"
      ],
      "execution_count": 47,
      "outputs": [
        {
          "output_type": "execute_result",
          "data": {
            "text/html": [
              "<div>\n",
              "<style scoped>\n",
              "    .dataframe tbody tr th:only-of-type {\n",
              "        vertical-align: middle;\n",
              "    }\n",
              "\n",
              "    .dataframe tbody tr th {\n",
              "        vertical-align: top;\n",
              "    }\n",
              "\n",
              "    .dataframe thead th {\n",
              "        text-align: right;\n",
              "    }\n",
              "</style>\n",
              "<table border=\"1\" class=\"dataframe\">\n",
              "  <thead>\n",
              "    <tr style=\"text-align: right;\">\n",
              "      <th></th>\n",
              "      <th>Unnamed: 0</th>\n",
              "      <th>Manufacture</th>\n",
              "      <th>Construction</th>\n",
              "      <th>Trade</th>\n",
              "      <th>Transportation and storage</th>\n",
              "      <th>Accomodation and gastronomy</th>\n",
              "      <th>Health and Social care</th>\n",
              "      <th>Temporary employment</th>\n",
              "      <th>TOTAL UNEMPLOYED</th>\n",
              "    </tr>\n",
              "  </thead>\n",
              "  <tbody>\n",
              "    <tr>\n",
              "      <th>0</th>\n",
              "      <td>2020-04</td>\n",
              "      <td>37416</td>\n",
              "      <td>36326</td>\n",
              "      <td>69981</td>\n",
              "      <td>30292</td>\n",
              "      <td>114656</td>\n",
              "      <td>12466</td>\n",
              "      <td>48395</td>\n",
              "      <td>522253</td>\n",
              "    </tr>\n",
              "    <tr>\n",
              "      <th>1</th>\n",
              "      <td>2020-03</td>\n",
              "      <td>33933</td>\n",
              "      <td>55816</td>\n",
              "      <td>62820</td>\n",
              "      <td>28567</td>\n",
              "      <td>97673</td>\n",
              "      <td>10494</td>\n",
              "      <td>45327</td>\n",
              "      <td>504345</td>\n",
              "    </tr>\n",
              "    <tr>\n",
              "      <th>2</th>\n",
              "      <td>2020-02</td>\n",
              "      <td>26860</td>\n",
              "      <td>47420</td>\n",
              "      <td>45779</td>\n",
              "      <td>17224</td>\n",
              "      <td>33442</td>\n",
              "      <td>8068</td>\n",
              "      <td>33945</td>\n",
              "      <td>333987</td>\n",
              "    </tr>\n",
              "    <tr>\n",
              "      <th>3</th>\n",
              "      <td>2020-01</td>\n",
              "      <td>28455</td>\n",
              "      <td>58053</td>\n",
              "      <td>47336</td>\n",
              "      <td>17831</td>\n",
              "      <td>34186</td>\n",
              "      <td>8197</td>\n",
              "      <td>35330</td>\n",
              "      <td>355335</td>\n",
              "    </tr>\n",
              "    <tr>\n",
              "      <th>4</th>\n",
              "      <td>2019-12</td>\n",
              "      <td>28243</td>\n",
              "      <td>51682</td>\n",
              "      <td>46499</td>\n",
              "      <td>16922</td>\n",
              "      <td>32316</td>\n",
              "      <td>8428</td>\n",
              "      <td>39177</td>\n",
              "      <td>349795</td>\n",
              "    </tr>\n",
              "    <tr>\n",
              "      <th>5</th>\n",
              "      <td>2019-11</td>\n",
              "      <td>23324</td>\n",
              "      <td>18448</td>\n",
              "      <td>41621</td>\n",
              "      <td>15001</td>\n",
              "      <td>49403</td>\n",
              "      <td>7990</td>\n",
              "      <td>30959</td>\n",
              "      <td>299527</td>\n",
              "    </tr>\n",
              "  </tbody>\n",
              "</table>\n",
              "</div>"
            ],
            "text/plain": [
              "  Unnamed: 0  Manufacture   ...  Temporary employment  TOTAL UNEMPLOYED\n",
              "0    2020-04         37416  ...                 48395            522253\n",
              "1    2020-03         33933  ...                 45327            504345\n",
              "2    2020-02         26860  ...                 33945            333987\n",
              "3    2020-01         28455  ...                 35330            355335\n",
              "4    2019-12         28243  ...                 39177            349795\n",
              "5    2019-11         23324  ...                 30959            299527\n",
              "\n",
              "[6 rows x 9 columns]"
            ]
          },
          "metadata": {
            "tags": []
          },
          "execution_count": 47
        }
      ]
    },
    {
      "cell_type": "code",
      "metadata": {
        "id": "gc0X7tfCGCPm",
        "colab_type": "code",
        "outputId": "fb99d9e9-d0df-4350-bba2-cc8dec57fa7e",
        "colab": {
          "base_uri": "https://localhost:8080/",
          "height": 405
        }
      },
      "source": [
        "plt.style.use('seaborn')\n",
        "date=sector['Unnamed: 0']\n",
        "manufacture=sector['Manufacture ']\n",
        "construction=sector['Construction']\n",
        "trade=sector['Trade']\n",
        "trans=sector['Transportation and storage']\n",
        "health=sector['Health and Social care']\n",
        "accom=sector['Accomodation and gastronomy']\n",
        "plt.plot_date(date,manufacture,linestyle='solid' ,color='brown' ,label='Manufacturing')\n",
        "plt.plot_date(date,construction,linestyle='solid' ,color='yellow' ,label='Construction')\n",
        "plt.plot_date(date,trade,linestyle='solid' ,color='black', label='Trade')\n",
        "plt.plot_date(date,trans,linestyle='solid' ,color='grey', label='Transportation and storage')\n",
        "plt.plot_date(date,health,linestyle='solid' ,color='blue', label='Health and Social care')\n",
        "plt.plot_date(date,accom,linestyle='solid' ,color='pink', label='Accomodation and gastronomy')\n",
        "plt.title('Austria')\n",
        "plt.xlabel('date')\n",
        "plt.ylabel('unemployed persons')\n",
        "plt.legend()\n",
        "plt.tight_layout()\n",
        "plt.show()\n"
      ],
      "execution_count": 51,
      "outputs": [
        {
          "output_type": "display_data",
          "data": {
            "image/png": "[encoded data removed]",
            "text/plain": [
              "<Figure size 576x396 with 1 Axes>"
            ]
          },
          "metadata": {
            "tags": []
          }
        }
      ]
    },
    {
      "cell_type": "code",
      "metadata": {
        "id": "09PkwWkZ61f8",
        "colab_type": "code",
        "colab": {}
      },
      "source": [
        "data=pd.read_excel('/content/Austria.xlsx' , sheet_name='Sheet5')"
      ],
      "execution_count": 0,
      "outputs": []
    },
    {
      "cell_type": "code",
      "metadata": {
        "id": "lXlsfeKdFDC3",
        "colab_type": "code",
        "colab": {
          "base_uri": "https://localhost:8080/",
          "height": 881
        },
        "outputId": "d9664c5c-53e5-42af-973d-741c9c486734"
      },
      "source": [
        "data"
      ],
      "execution_count": 5,
      "outputs": [
        {
          "output_type": "execute_result",
          "data": {
            "text/html": [
              "<div>\n",
              "<style scoped>\n",
              "    .dataframe tbody tr th:only-of-type {\n",
              "        vertical-align: middle;\n",
              "    }\n",
              "\n",
              "    .dataframe tbody tr th {\n",
              "        vertical-align: top;\n",
              "    }\n",
              "\n",
              "    .dataframe thead th {\n",
              "        text-align: right;\n",
              "    }\n",
              "</style>\n",
              "<table border=\"1\" class=\"dataframe\">\n",
              "  <thead>\n",
              "    <tr style=\"text-align: right;\">\n",
              "      <th></th>\n",
              "      <th>Unnamed: 0</th>\n",
              "      <th>Unnamed: 1</th>\n",
              "      <th>Unnamed: 2</th>\n",
              "      <th>Unnamed: 3</th>\n",
              "      <th>F (thousand)</th>\n",
              "      <th>F(percentage)</th>\n",
              "      <th>M(thousands</th>\n",
              "      <th>M(percent</th>\n",
              "      <th>T(thousands)</th>\n",
              "      <th>T(percent)</th>\n",
              "      <th>Impact of crisis</th>\n",
              "    </tr>\n",
              "  </thead>\n",
              "  <tbody>\n",
              "    <tr>\n",
              "      <th>0</th>\n",
              "      <td>total</td>\n",
              "      <td>NaN</td>\n",
              "      <td>NaN</td>\n",
              "      <td>NaN</td>\n",
              "      <td>2065.550</td>\n",
              "      <td>1.000000</td>\n",
              "      <td>2383.193</td>\n",
              "      <td>1.000000</td>\n",
              "      <td>4448.743</td>\n",
              "      <td>1.000000</td>\n",
              "      <td>NaN</td>\n",
              "    </tr>\n",
              "    <tr>\n",
              "      <th>1</th>\n",
              "      <td>Agriculture, Forestry and Fishing</td>\n",
              "      <td>NaN</td>\n",
              "      <td>NaN</td>\n",
              "      <td>NaN</td>\n",
              "      <td>63.076</td>\n",
              "      <td>0.030537</td>\n",
              "      <td>91.780</td>\n",
              "      <td>0.038511</td>\n",
              "      <td>154.856</td>\n",
              "      <td>0.034809</td>\n",
              "      <td>Low_medium</td>\n",
              "    </tr>\n",
              "    <tr>\n",
              "      <th>2</th>\n",
              "      <td>Mining and Quarrying</td>\n",
              "      <td>NaN</td>\n",
              "      <td>NaN</td>\n",
              "      <td>NaN</td>\n",
              "      <td>1.253</td>\n",
              "      <td>0.000607</td>\n",
              "      <td>5.473</td>\n",
              "      <td>0.002296</td>\n",
              "      <td>6.726</td>\n",
              "      <td>0.001512</td>\n",
              "      <td>Medium</td>\n",
              "    </tr>\n",
              "    <tr>\n",
              "      <th>3</th>\n",
              "      <td>Manufacturing</td>\n",
              "      <td>NaN</td>\n",
              "      <td>NaN</td>\n",
              "      <td>NaN</td>\n",
              "      <td>180.222</td>\n",
              "      <td>0.087251</td>\n",
              "      <td>529.021</td>\n",
              "      <td>0.221980</td>\n",
              "      <td>709.243</td>\n",
              "      <td>0.159425</td>\n",
              "      <td>High</td>\n",
              "    </tr>\n",
              "    <tr>\n",
              "      <th>4</th>\n",
              "      <td>Utilities</td>\n",
              "      <td>NaN</td>\n",
              "      <td>NaN</td>\n",
              "      <td>NaN</td>\n",
              "      <td>10.441</td>\n",
              "      <td>0.005055</td>\n",
              "      <td>40.295</td>\n",
              "      <td>0.016908</td>\n",
              "      <td>50.735</td>\n",
              "      <td>0.011404</td>\n",
              "      <td>Low</td>\n",
              "    </tr>\n",
              "    <tr>\n",
              "      <th>5</th>\n",
              "      <td>Construction</td>\n",
              "      <td>NaN</td>\n",
              "      <td>NaN</td>\n",
              "      <td>NaN</td>\n",
              "      <td>46.769</td>\n",
              "      <td>0.022642</td>\n",
              "      <td>300.688</td>\n",
              "      <td>0.126170</td>\n",
              "      <td>347.457</td>\n",
              "      <td>0.078102</td>\n",
              "      <td>Medium</td>\n",
              "    </tr>\n",
              "    <tr>\n",
              "      <th>6</th>\n",
              "      <td>Wholesale and retail trade; repair of motor ve...</td>\n",
              "      <td>NaN</td>\n",
              "      <td>NaN</td>\n",
              "      <td>NaN</td>\n",
              "      <td>347.964</td>\n",
              "      <td>0.168461</td>\n",
              "      <td>288.241</td>\n",
              "      <td>0.120947</td>\n",
              "      <td>636.205</td>\n",
              "      <td>0.143008</td>\n",
              "      <td>High</td>\n",
              "    </tr>\n",
              "    <tr>\n",
              "      <th>7</th>\n",
              "      <td>Transport; Storage and Communication</td>\n",
              "      <td>NaN</td>\n",
              "      <td>NaN</td>\n",
              "      <td>NaN</td>\n",
              "      <td>95.366</td>\n",
              "      <td>0.046170</td>\n",
              "      <td>275.055</td>\n",
              "      <td>0.115414</td>\n",
              "      <td>370.421</td>\n",
              "      <td>0.083264</td>\n",
              "      <td>Medium_high</td>\n",
              "    </tr>\n",
              "    <tr>\n",
              "      <th>8</th>\n",
              "      <td>Accommodation and food service activities</td>\n",
              "      <td>NaN</td>\n",
              "      <td>NaN</td>\n",
              "      <td>NaN</td>\n",
              "      <td>158.158</td>\n",
              "      <td>0.076569</td>\n",
              "      <td>112.467</td>\n",
              "      <td>0.047192</td>\n",
              "      <td>270.625</td>\n",
              "      <td>0.060832</td>\n",
              "      <td>High</td>\n",
              "    </tr>\n",
              "    <tr>\n",
              "      <th>9</th>\n",
              "      <td>Finantial and insurance activities</td>\n",
              "      <td>NaN</td>\n",
              "      <td>NaN</td>\n",
              "      <td>NaN</td>\n",
              "      <td>68.133</td>\n",
              "      <td>0.032985</td>\n",
              "      <td>72.989</td>\n",
              "      <td>0.030627</td>\n",
              "      <td>141.122</td>\n",
              "      <td>0.031722</td>\n",
              "      <td>Medium</td>\n",
              "    </tr>\n",
              "    <tr>\n",
              "      <th>10</th>\n",
              "      <td>Real state; Business and administrative activi...</td>\n",
              "      <td>NaN</td>\n",
              "      <td>NaN</td>\n",
              "      <td>NaN</td>\n",
              "      <td>244.513</td>\n",
              "      <td>0.118377</td>\n",
              "      <td>234.733</td>\n",
              "      <td>0.098495</td>\n",
              "      <td>479.246</td>\n",
              "      <td>0.107726</td>\n",
              "      <td>High</td>\n",
              "    </tr>\n",
              "    <tr>\n",
              "      <th>11</th>\n",
              "      <td>Public administration and defense; Compulsory ...</td>\n",
              "      <td>NaN</td>\n",
              "      <td>NaN</td>\n",
              "      <td>NaN</td>\n",
              "      <td>133.160</td>\n",
              "      <td>0.064467</td>\n",
              "      <td>154.403</td>\n",
              "      <td>0.064788</td>\n",
              "      <td>287.563</td>\n",
              "      <td>0.064639</td>\n",
              "      <td>Low</td>\n",
              "    </tr>\n",
              "    <tr>\n",
              "      <th>12</th>\n",
              "      <td>Education</td>\n",
              "      <td>NaN</td>\n",
              "      <td>NaN</td>\n",
              "      <td>NaN</td>\n",
              "      <td>216.987</td>\n",
              "      <td>0.105050</td>\n",
              "      <td>87.952</td>\n",
              "      <td>0.036905</td>\n",
              "      <td>304.940</td>\n",
              "      <td>0.068545</td>\n",
              "      <td>Low</td>\n",
              "    </tr>\n",
              "    <tr>\n",
              "      <th>13</th>\n",
              "      <td>Human health and social work activities</td>\n",
              "      <td>NaN</td>\n",
              "      <td>NaN</td>\n",
              "      <td>NaN</td>\n",
              "      <td>372.384</td>\n",
              "      <td>0.180283</td>\n",
              "      <td>109.152</td>\n",
              "      <td>0.045801</td>\n",
              "      <td>481.536</td>\n",
              "      <td>0.108241</td>\n",
              "      <td>Low</td>\n",
              "    </tr>\n",
              "    <tr>\n",
              "      <th>14</th>\n",
              "      <td>Other services</td>\n",
              "      <td>NaN</td>\n",
              "      <td>NaN</td>\n",
              "      <td>NaN</td>\n",
              "      <td>127.124</td>\n",
              "      <td>0.061545</td>\n",
              "      <td>80.944</td>\n",
              "      <td>0.033965</td>\n",
              "      <td>208.067</td>\n",
              "      <td>0.046770</td>\n",
              "      <td>Medium_high</td>\n",
              "    </tr>\n",
              "  </tbody>\n",
              "</table>\n",
              "</div>"
            ],
            "text/plain": [
              "                                           Unnamed: 0  ...  Impact of crisis\n",
              "0                                               total  ...               NaN\n",
              "1                   Agriculture, Forestry and Fishing  ...        Low_medium\n",
              "2                                Mining and Quarrying  ...            Medium\n",
              "3                                       Manufacturing  ...              High\n",
              "4                                           Utilities  ...               Low\n",
              "5                                        Construction  ...            Medium\n",
              "6   Wholesale and retail trade; repair of motor ve...  ...              High\n",
              "7                Transport; Storage and Communication  ...       Medium_high\n",
              "8           Accommodation and food service activities  ...              High\n",
              "9                  Finantial and insurance activities  ...            Medium\n",
              "10  Real state; Business and administrative activi...  ...              High\n",
              "11  Public administration and defense; Compulsory ...  ...               Low\n",
              "12                                          Education  ...               Low\n",
              "13            Human health and social work activities  ...               Low\n",
              "14                                     Other services  ...       Medium_high\n",
              "\n",
              "[15 rows x 11 columns]"
            ]
          },
          "metadata": {
            "tags": []
          },
          "execution_count": 5
        }
      ]
    },
    {
      "cell_type": "code",
      "metadata": {
        "id": "J4jqz8IeDTTX",
        "colab_type": "code",
        "outputId": "2836e41c-ca33-4974-e737-1c8f75333349",
        "colab": {
          "base_uri": "https://localhost:8080/",
          "height": 198
        }
      },
      "source": [
        "import numpy as np\n",
        "data2=data.iloc[1:6,4:8]\n",
        "data2"
      ],
      "execution_count": 56,
      "outputs": [
        {
          "output_type": "execute_result",
          "data": {
            "text/html": [
              "<div>\n",
              "<style scoped>\n",
              "    .dataframe tbody tr th:only-of-type {\n",
              "        vertical-align: middle;\n",
              "    }\n",
              "\n",
              "    .dataframe tbody tr th {\n",
              "        vertical-align: top;\n",
              "    }\n",
              "\n",
              "    .dataframe thead th {\n",
              "        text-align: right;\n",
              "    }\n",
              "</style>\n",
              "<table border=\"1\" class=\"dataframe\">\n",
              "  <thead>\n",
              "    <tr style=\"text-align: right;\">\n",
              "      <th></th>\n",
              "      <th>F (thousand)</th>\n",
              "      <th>F(percentage)</th>\n",
              "      <th>M(thousands</th>\n",
              "      <th>M(percent</th>\n",
              "    </tr>\n",
              "  </thead>\n",
              "  <tbody>\n",
              "    <tr>\n",
              "      <th>1</th>\n",
              "      <td>63.076</td>\n",
              "      <td>0.030537</td>\n",
              "      <td>91.780</td>\n",
              "      <td>0.038511</td>\n",
              "    </tr>\n",
              "    <tr>\n",
              "      <th>2</th>\n",
              "      <td>1.253</td>\n",
              "      <td>0.000607</td>\n",
              "      <td>5.473</td>\n",
              "      <td>0.002296</td>\n",
              "    </tr>\n",
              "    <tr>\n",
              "      <th>3</th>\n",
              "      <td>180.222</td>\n",
              "      <td>0.087251</td>\n",
              "      <td>529.021</td>\n",
              "      <td>0.221980</td>\n",
              "    </tr>\n",
              "    <tr>\n",
              "      <th>4</th>\n",
              "      <td>10.441</td>\n",
              "      <td>0.005055</td>\n",
              "      <td>40.295</td>\n",
              "      <td>0.016908</td>\n",
              "    </tr>\n",
              "    <tr>\n",
              "      <th>5</th>\n",
              "      <td>46.769</td>\n",
              "      <td>0.022642</td>\n",
              "      <td>300.688</td>\n",
              "      <td>0.126170</td>\n",
              "    </tr>\n",
              "  </tbody>\n",
              "</table>\n",
              "</div>"
            ],
            "text/plain": [
              "   F (thousand)  F(percentage)  M(thousands  M(percent\n",
              "1        63.076       0.030537       91.780   0.038511\n",
              "2         1.253       0.000607        5.473   0.002296\n",
              "3       180.222       0.087251      529.021   0.221980\n",
              "4        10.441       0.005055       40.295   0.016908\n",
              "5        46.769       0.022642      300.688   0.126170"
            ]
          },
          "metadata": {
            "tags": []
          },
          "execution_count": 56
        }
      ]
    },
    {
      "cell_type": "code",
      "metadata": {
        "id": "BAE82y7pSvTf",
        "colab_type": "code",
        "colab": {
          "base_uri": "https://localhost:8080/",
          "height": 132
        },
        "outputId": "4fdc7b34-6873-4283-ae1b-2e6aa8a48685"
      },
      "source": [
        "sector=['Agriculture','Mining','Manufacturing','Utilities','Construction']\n",
        "male=data2['M(thousands']\n",
        "female=data2['F (thousand)']\n",
        "male"
      ],
      "execution_count": 58,
      "outputs": [
        {
          "output_type": "execute_result",
          "data": {
            "text/plain": [
              "1     91.780\n",
              "2      5.473\n",
              "3    529.021\n",
              "4     40.295\n",
              "5    300.688\n",
              "Name: M(thousands, dtype: float64"
            ]
          },
          "metadata": {
            "tags": []
          },
          "execution_count": 58
        }
      ]
    },
    {
      "cell_type": "code",
      "metadata": {
        "id": "Vgktcmb2GTEO",
        "colab_type": "code",
        "colab": {
          "base_uri": "https://localhost:8080/",
          "height": 362
        },
        "outputId": "9b49d8db-3ffc-46aa-a24f-35560d002f42"
      },
      "source": [
        "plt.style.use('seaborn')\n",
        "width=0.5\n",
        "fig, ax=plt.subplots()\n",
        "ax.bar(sector,male,width,label='Men',color='#263F6A')\n",
        "ax.bar(sector,female,width,bottom=male,label='Women')\n",
        "ax.set_ylabel('No of workers per sector,(thousands)')\n",
        "ax.set_title('Gender ratio by  Sectors, Austria')\n",
        "ax.legend()\n",
        "plt.show()"
      ],
      "execution_count": 63,
      "outputs": [
        {
          "output_type": "display_data",
          "data": {
            "image/png": "[encoded data removed]",
            "text/plain": [
              "<Figure size 576x396 with 1 Axes>"
            ]
          },
          "metadata": {
            "tags": []
          }
        }
      ]
    },
    {
      "cell_type": "code",
      "metadata": {
        "id": "vpEdZ_93BDFt",
        "colab_type": "code",
        "outputId": "dc1ee847-777d-4cd1-8856-c0dd2f452883",
        "colab": {
          "base_uri": "https://localhost:8080/",
          "height": 198
        }
      },
      "source": [
        "data3=data.iloc[6:11,4:8]\n",
        "data3"
      ],
      "execution_count": 11,
      "outputs": [
        {
          "output_type": "execute_result",
          "data": {
            "text/html": [
              "<div>\n",
              "<style scoped>\n",
              "    .dataframe tbody tr th:only-of-type {\n",
              "        vertical-align: middle;\n",
              "    }\n",
              "\n",
              "    .dataframe tbody tr th {\n",
              "        vertical-align: top;\n",
              "    }\n",
              "\n",
              "    .dataframe thead th {\n",
              "        text-align: right;\n",
              "    }\n",
              "</style>\n",
              "<table border=\"1\" class=\"dataframe\">\n",
              "  <thead>\n",
              "    <tr style=\"text-align: right;\">\n",
              "      <th></th>\n",
              "      <th>F (thousand)</th>\n",
              "      <th>F(percentage)</th>\n",
              "      <th>M(thousands</th>\n",
              "      <th>M(percent</th>\n",
              "    </tr>\n",
              "  </thead>\n",
              "  <tbody>\n",
              "    <tr>\n",
              "      <th>6</th>\n",
              "      <td>347.964</td>\n",
              "      <td>0.168461</td>\n",
              "      <td>288.241</td>\n",
              "      <td>0.120947</td>\n",
              "    </tr>\n",
              "    <tr>\n",
              "      <th>7</th>\n",
              "      <td>95.366</td>\n",
              "      <td>0.046170</td>\n",
              "      <td>275.055</td>\n",
              "      <td>0.115414</td>\n",
              "    </tr>\n",
              "    <tr>\n",
              "      <th>8</th>\n",
              "      <td>158.158</td>\n",
              "      <td>0.076569</td>\n",
              "      <td>112.467</td>\n",
              "      <td>0.047192</td>\n",
              "    </tr>\n",
              "    <tr>\n",
              "      <th>9</th>\n",
              "      <td>68.133</td>\n",
              "      <td>0.032985</td>\n",
              "      <td>72.989</td>\n",
              "      <td>0.030627</td>\n",
              "    </tr>\n",
              "    <tr>\n",
              "      <th>10</th>\n",
              "      <td>244.513</td>\n",
              "      <td>0.118377</td>\n",
              "      <td>234.733</td>\n",
              "      <td>0.098495</td>\n",
              "    </tr>\n",
              "  </tbody>\n",
              "</table>\n",
              "</div>"
            ],
            "text/plain": [
              "    F (thousand)  F(percentage)  M(thousands  M(percent\n",
              "6        347.964       0.168461      288.241   0.120947\n",
              "7         95.366       0.046170      275.055   0.115414\n",
              "8        158.158       0.076569      112.467   0.047192\n",
              "9         68.133       0.032985       72.989   0.030627\n",
              "10       244.513       0.118377      234.733   0.098495"
            ]
          },
          "metadata": {
            "tags": []
          },
          "execution_count": 11
        }
      ]
    },
    {
      "cell_type": "code",
      "metadata": {
        "id": "DpL-Vocbqhkv",
        "colab_type": "code",
        "colab": {}
      },
      "source": [
        "sector=[' trade ','Transport and  Comm','Food service','Finance and insurance','Real state Business']\n",
        "male=data3['M(thousands']\n",
        "female=data3['F (thousand)']"
      ],
      "execution_count": 0,
      "outputs": []
    },
    {
      "cell_type": "code",
      "metadata": {
        "id": "5afiCFeisV71",
        "colab_type": "code",
        "colab": {
          "base_uri": "https://localhost:8080/",
          "height": 362
        },
        "outputId": "5c7526ab-04c4-44ca-e4ab-6d9c7b31941c"
      },
      "source": [
        "plt.style.use('seaborn')\n",
        "width=0.5\n",
        "fig, ax=plt.subplots()\n",
        "ax.bar(sector,male,width,label='Men',color='#263F6A')\n",
        "ax.bar(sector,female,width,bottom=male,label='Women')\n",
        "ax.set_ylabel('No. of workers in thousands ')\n",
        "ax.set_title('Gender ratio by Sectors, Austria')\n",
        "ax.legend()\n",
        "plt.show()"
      ],
      "execution_count": 20,
      "outputs": [
        {
          "output_type": "display_data",
          "data": {
            "image/png": "[encoded data removed]",
            "text/plain": [
              "<Figure size 576x396 with 1 Axes>"
            ]
          },
          "metadata": {
            "tags": []
          }
        }
      ]
    },
    {
      "cell_type": "code",
      "metadata": {
        "id": "cufFWoe8IJL8",
        "colab_type": "code",
        "colab": {
          "base_uri": "https://localhost:8080/",
          "height": 94
        },
        "outputId": "2f3cb526-294f-4ffe-bdb4-18e60e1e98eb"
      },
      "source": [
        "sector=['Education','Health care and social work','Other services']\n",
        "data4=data.iloc[12:15,4:8]\n",
        "data4\n",
        "male=data4['M(thousands']\n",
        "female=data4['F (thousand)']\n",
        "male"
      ],
      "execution_count": 39,
      "outputs": [
        {
          "output_type": "execute_result",
          "data": {
            "text/plain": [
              "12     87.952\n",
              "13    109.152\n",
              "14     80.944\n",
              "Name: M(thousands, dtype: float64"
            ]
          },
          "metadata": {
            "tags": []
          },
          "execution_count": 39
        }
      ]
    },
    {
      "cell_type": "code",
      "metadata": {
        "id": "4hoB9mohPuoJ",
        "colab_type": "code",
        "colab": {
          "base_uri": "https://localhost:8080/",
          "height": 362
        },
        "outputId": "6799f1e9-137b-4cbf-d1d4-594d858dd032"
      },
      "source": [
        "plt.style.use('seaborn')\n",
        "width=0.5\n",
        "fig, ax=plt.subplots()\n",
        "ax.bar(sector,male,width,label='Men',color='#263F6A')\n",
        "ax.bar(sector,female,width,bottom=male,label='Women')\n",
        "ax.set_ylabel('No.of workers in sectors in thousands')\n",
        "ax.set_title('Gender representation of Sectors, Austria')\n",
        "ax.legend()\n",
        "plt.show()"
      ],
      "execution_count": 41,
      "outputs": [
        {
          "output_type": "display_data",
          "data": {
            "image/png": "[encoded data removed]",
            "text/plain": [
              "<Figure size 576x396 with 1 Axes>"
            ]
          },
          "metadata": {
            "tags": []
          }
        }
      ]
    }
  ]
}