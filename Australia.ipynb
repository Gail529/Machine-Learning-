{
  "nbformat": 4,
  "nbformat_minor": 0,
  "metadata": {
    "colab": {
      "name": "Australia.ipynb",
      "provenance": [],
      "private_outputs": true,
      "collapsed_sections": [],
      "authorship_tag": "ABX9TyPqfRV+ISlbCNteqeOgOBDh",
      "include_colab_link": true
    },
    "kernelspec": {
      "name": "python3",
      "display_name": "Python 3"
    }
  },
  "cells": [
    {
      "cell_type": "markdown",
      "metadata": {
        "id": "view-in-github",
        "colab_type": "text"
      },
      "source": [
        "<a href=\"https://colab.research.google.com/github/Gail529/Machine-Learning-/blob/master/Australia.ipynb\" target=\"_parent\"><img src=\"https://colab.research.google.com/assets/colab-badge.svg\" alt=\"Open In Colab\"/></a>"
      ]
    },
    {
      "cell_type": "code",
      "metadata": {
        "id": "BbmypouoLO9i",
        "colab_type": "code",
        "colab": {}
      },
      "source": [
        "import numpy as np\n",
        "import pandas as pd\n",
        "import matplotlib.pyplot as plt\n",
        "import matplotlib.patches as mpatches\n",
        "import seaborn  as sns"
      ],
      "execution_count": 0,
      "outputs": []
    },
    {
      "cell_type": "code",
      "metadata": {
        "id": "OikDqBg0RfE9",
        "colab_type": "code",
        "colab": {}
      },
      "source": [
        "data=pd.read_excel('/content/Australia.xlsx',sheet_name='Sheet2')"
      ],
      "execution_count": 0,
      "outputs": []
    },
    {
      "cell_type": "code",
      "metadata": {
        "id": "nkxxoR7SUUA1",
        "colab_type": "code",
        "colab": {}
      },
      "source": [
        "data=data.iloc[6:12,:]\n",
        "data.head(5)\n"
      ],
      "execution_count": 0,
      "outputs": []
    },
    {
      "cell_type": "code",
      "metadata": {
        "id": "aAHfSHZC_AAL",
        "colab_type": "code",
        "colab": {}
      },
      "source": [
        "cols=data.columns\n",
        "cols"
      ],
      "execution_count": 0,
      "outputs": []
    },
    {
      "cell_type": "code",
      "metadata": {
        "id": "H7kpMvlJ_duA",
        "colab_type": "code",
        "colab": {}
      },
      "source": [
        "date=data['time']\n",
        "t15_24=data['Total 15-24']\n",
        "m15_24=data['Male 15-24']\n",
        "f15_24=data['Female 15-24']\n",
        "t55_64=data['Total 55-64']\n",
        "m55_64=data['Male 55-64']\n",
        "f55_64=data['Female 55-64']\n",
        "t15=data['Total 15+']\n",
        "m15=data['Male 15+']\n",
        "f15=data['Female 15+']\n",
        "t15_64=data['Total 15-64']\n",
        "m15_64=data['Male 15-64']\n",
        "f15_64=data['Female 15-64']\n",
        "bar_width=0.15"
      ],
      "execution_count": 0,
      "outputs": []
    },
    {
      "cell_type": "code",
      "metadata": {
        "id": "gxl0bQQ-HFYI",
        "colab_type": "code",
        "colab": {}
      },
      "source": [
        "plt.style.use('seaborn')\n",
        "date=data['time']\n",
        "plt.plot_date(date,f15_24 ,  linestyle='solid' ,color='blue', label='Female 15-24')  \n",
        "plt.plot_date(date,f55_64  ,linestyle='solid', color='grey' , label='Female  55_64')  \n",
        "plt.plot_date(date,f15,linestyle='solid' ,color='pink', label='Female  15+')  \n",
        "plt.plot_date(date,f15_64,linestyle='solid' ,color='black', label='Female 15_64')  \n",
        "plt.plot_date(date,m15_24 ,  linestyle='solid' ,color='blue', label='Male 15-24')  \n",
        "plt.plot_date(date,m55_64  ,linestyle='solid', color='grey' , label='Male  55_64')  \n",
        "plt.plot_date(date,m15,linestyle='solid' ,color='pink', label='Male  15+')  \n",
        "plt.plot_date(date,m15_64,linestyle='solid' ,color='black', label='Male 15_64')  \n",
        "plt.legend()\n",
        "plt.tight_layout()\n",
        "plt.show()"
      ],
      "execution_count": 0,
      "outputs": []
    },
    {
      "cell_type": "code",
      "metadata": {
        "id": "U8HFCvt2Gghh",
        "colab_type": "code",
        "colab": {}
      },
      "source": [
        "plt.style.use('seaborn')\n",
        "date=data['time']\n",
        "plt.plot_date(date,m15_24 ,  linestyle='solid' ,color='blue', label='Male 15-24')  \n",
        "plt.plot_date(date,m55_64  ,linestyle='solid', color='grey' , label='Male  55_64')  \n",
        "plt.plot_date(date,m15,linestyle='solid' ,color='pink', label='Male  15+')  \n",
        "plt.plot_date(date,m15_64,linestyle='solid' ,color='black', label='Male 15_64')  \n",
        "plt.legend()\n",
        "plt.tight_layout()\n",
        "plt.show()"
      ],
      "execution_count": 0,
      "outputs": []
    },
    {
      "cell_type": "code",
      "metadata": {
        "id": "_QQ_6laJUU_M",
        "colab_type": "code",
        "colab": {}
      },
      "source": [
        "plt.style.use('seaborn')\n",
        "date=data['time']\n",
        "plt.plot_date(date,f15_24 ,  linestyle='solid' ,color='blue', label='Female 15-24')  \n",
        "plt.plot_date(date,f55_64  ,linestyle='solid', color='grey' , label='Female  55_64')  \n",
        "plt.plot_date(date,f15,linestyle='solid' ,color='pink', label='Female  15+')  \n",
        "plt.plot_date(date,f15_64,linestyle='solid' ,color='black', label='Female 15_64')    \n",
        "plt.legend()\n",
        "plt.tight_layout()\n",
        "plt.show()"
      ],
      "execution_count": 0,
      "outputs": []
    }
  ]
}