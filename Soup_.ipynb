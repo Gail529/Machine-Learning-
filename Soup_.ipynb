{
  "nbformat": 4,
  "nbformat_minor": 0,
  "metadata": {
    "colab": {
      "name": "Soup .ipynb",
      "provenance": [],
      "private_outputs": true,
      "collapsed_sections": [],
      "authorship_tag": "ABX9TyP7UmARD/+E2lNAMGCcJQnx",
      "include_colab_link": true
    },
    "kernelspec": {
      "name": "python3",
      "display_name": "Python 3"
    }
  },
  "cells": [
    {
      "cell_type": "markdown",
      "metadata": {
        "id": "view-in-github",
        "colab_type": "text"
      },
      "source": [
        "<a href=\"https://colab.research.google.com/github/Gail529/Machine-Learning-/blob/master/Soup_.ipynb\" target=\"_parent\"><img src=\"https://colab.research.google.com/assets/colab-badge.svg\" alt=\"Open In Colab\"/></a>"
      ]
    },
    {
      "cell_type": "code",
      "metadata": {
        "id": "fJwVF2LrU1Q5",
        "colab_type": "code",
        "colab": {}
      },
      "source": [
        "from bs4 import BeautifulSoup \n",
        "import requests"
      ],
      "execution_count": null,
      "outputs": []
    },
    {
      "cell_type": "code",
      "metadata": {
        "id": "LjKtYA-fW6Vc",
        "colab_type": "code",
        "colab": {}
      },
      "source": [
        "lyricsurl=\"https://www.lyrics.com/lyric/29006106/OneRepublic/Counting+Stars\"\n",
        "lyrics=requests.get(lyricsurl)\n",
        "soup=BeautifulSoup(lyrics.text, 'lxml')"
      ],
      "execution_count": null,
      "outputs": []
    },
    {
      "cell_type": "code",
      "metadata": {
        "id": "dpb_usySXLDv",
        "colab_type": "code",
        "colab": {}
      },
      "source": [
        "header=soup.find(\"h1\" , {\"class\":\"lyric-title\"})\n",
        "header=header.text.strip()\n",
        "print(header)"
      ],
      "execution_count": null,
      "outputs": []
    },
    {
      "cell_type": "code",
      "metadata": {
        "id": "Pqdk0vDCXTkQ",
        "colab_type": "code",
        "colab": {}
      },
      "source": [
        "lyr=soup.find(\"pre\" ,{\"class\":\"lyric-body\"})\n",
        "lyr=lyr.text.strip()\n",
        "print(lyr)"
      ],
      "execution_count": null,
      "outputs": []
    },
    {
      "cell_type": "code",
      "metadata": {
        "id": "GOT7fRM6Xj16",
        "colab_type": "code",
        "colab": {}
      },
      "source": [
        "lyricsurl=\"https://www.lyrics.com/lyric/29006105/OneRepublic/If+I+Lose+Myself\"\n",
        "lyrics=requests.get(lyricsurl)\n",
        "soup1=BeautifulSoup(lyrics.text, 'lxml')\n"
      ],
      "execution_count": null,
      "outputs": []
    },
    {
      "cell_type": "code",
      "metadata": {
        "id": "f65TIXcQX1ub",
        "colab_type": "code",
        "colab": {}
      },
      "source": [
        "header=soup1.find(\"h1\" , {\"class\":\"lyric-title\"})\n",
        "header=header.text.strip()\n",
        "print(header)"
      ],
      "execution_count": null,
      "outputs": []
    },
    {
      "cell_type": "code",
      "metadata": {
        "id": "f3yV0TWMYJnU",
        "colab_type": "code",
        "colab": {}
      },
      "source": [
        "lyr=soup1.find(\"pre\" ,{\"class\":\"lyric-body\"})\n",
        "lyr=lyr.text.strip()\n",
        "print(lyr)"
      ],
      "execution_count": null,
      "outputs": []
    },
    {
      "cell_type": "code",
      "metadata": {
        "id": "HZVgEmmzYZVm",
        "colab_type": "code",
        "colab": {}
      },
      "source": [
        "lyr=soup1.find_all(\"td\" , {\"class\":\"tal qx fsl\"})\n",
        "for row in lyr:\n",
        "    row.find(\"a\")\n",
        "    print(row.get_text())"
      ],
      "execution_count": null,
      "outputs": []
    },
    {
      "cell_type": "code",
      "metadata": {
        "id": "JXuLcH_kYhP6",
        "colab_type": "code",
        "colab": {}
      },
      "source": [
        "lyr=soup1.find_all(\"td\" , {\"class\":\"tal qx fsl\"})\n",
        "for row in lyr:\n",
        "    r=soup1.find(\"a\").get('href')\n",
        "    print(r)"
      ],
      "execution_count": null,
      "outputs": []
    }
  ]
}