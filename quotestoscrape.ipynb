{
  "nbformat": 4,
  "nbformat_minor": 0,
  "metadata": {
    "colab": {
      "name": "quotestoscrape.ipynb",
      "provenance": [],
      "collapsed_sections": [],
      "authorship_tag": "ABX9TyNHIqsDP5Fx1BICySS4hDKv",
      "include_colab_link": true
    },
    "kernelspec": {
      "name": "python3",
      "display_name": "Python 3"
    }
  },
  "cells": [
    {
      "cell_type": "markdown",
      "metadata": {
        "id": "view-in-github",
        "colab_type": "text"
      },
      "source": [
        "<a href=\"https://colab.research.google.com/github/Gail529/Machine-Learning-/blob/master/quotestoscrape.ipynb\" target=\"_parent\"><img src=\"https://colab.research.google.com/assets/colab-badge.svg\" alt=\"Open In Colab\"/></a>"
      ]
    },
    {
      "cell_type": "code",
      "metadata": {
        "id": "8Sfz3BmlXeFV",
        "colab_type": "code",
        "colab": {}
      },
      "source": [
        "from bs4 import BeautifulSoup \n",
        "import requests\n",
        "quotesurl=\"http://quotes.toscrape.com\"\n"
      ],
      "execution_count": 0,
      "outputs": []
    },
    {
      "cell_type": "code",
      "metadata": {
        "id": "utDcb526mLal",
        "colab_type": "code",
        "colab": {}
      },
      "source": [
        "quotes=requests.get(quotesurl)"
      ],
      "execution_count": 0,
      "outputs": []
    },
    {
      "cell_type": "code",
      "metadata": {
        "id": "1H9V3X7BJmgc",
        "colab_type": "code",
        "colab": {}
      },
      "source": [
        "soup=BeautifulSoup(quotes.text, 'lxml')"
      ],
      "execution_count": 0,
      "outputs": []
    },
    {
      "cell_type": "code",
      "metadata": {
        "id": "TKgKxp0yKMkp",
        "colab_type": "code",
        "colab": {}
      },
      "source": [
        "divs=soup.find_all(\"div\")\n"
      ],
      "execution_count": 0,
      "outputs": []
    },
    {
      "cell_type": "code",
      "metadata": {
        "id": "pTsE06F4KGwy",
        "colab_type": "code",
        "outputId": "a4b201fd-00ca-4683-f12c-010fbca469e3",
        "colab": {
          "base_uri": "https://localhost:8080/",
          "height": 1000
        }
      },
      "source": [
        "links=soup.find_all('a')\n",
        "for link in links:\n",
        "    print(link.get_text())"
      ],
      "execution_count": 6,
      "outputs": [
        {
          "output_type": "stream",
          "text": [
            "Quotes to Scrape\n",
            "Login\n",
            "(about)\n",
            "change\n",
            "deep-thoughts\n",
            "thinking\n",
            "world\n",
            "(about)\n",
            "abilities\n",
            "choices\n",
            "(about)\n",
            "inspirational\n",
            "life\n",
            "live\n",
            "miracle\n",
            "miracles\n",
            "(about)\n",
            "aliteracy\n",
            "books\n",
            "classic\n",
            "humor\n",
            "(about)\n",
            "be-yourself\n",
            "inspirational\n",
            "(about)\n",
            "adulthood\n",
            "success\n",
            "value\n",
            "(about)\n",
            "life\n",
            "love\n",
            "(about)\n",
            "edison\n",
            "failure\n",
            "inspirational\n",
            "paraphrased\n",
            "(about)\n",
            "misattributed-eleanor-roosevelt\n",
            "(about)\n",
            "humor\n",
            "obvious\n",
            "simile\n",
            "Next →\n",
            "love\n",
            "inspirational\n",
            "life\n",
            "humor\n",
            "books\n",
            "reading\n",
            "friendship\n",
            "friends\n",
            "truth\n",
            "simile\n",
            "GoodReads.com\n",
            "Scrapinghub\n"
          ],
          "name": "stdout"
        }
      ]
    },
    {
      "cell_type": "code",
      "metadata": {
        "id": "T3ODj-ayRjFn",
        "colab_type": "code",
        "colab": {
          "base_uri": "https://localhost:8080/",
          "height": 207
        },
        "outputId": "d1acf7a2-6c19-4da0-a915-36ef62244cbe"
      },
      "source": [
        "sms=soup.find_all(\"small\")\n",
        "for sm in sms:\n",
        "    print(sm)"
      ],
      "execution_count": 7,
      "outputs": [
        {
          "output_type": "stream",
          "text": [
            "<small class=\"author\" itemprop=\"author\">Albert Einstein</small>\n",
            "<small class=\"author\" itemprop=\"author\">J.K. Rowling</small>\n",
            "<small class=\"author\" itemprop=\"author\">Albert Einstein</small>\n",
            "<small class=\"author\" itemprop=\"author\">Jane Austen</small>\n",
            "<small class=\"author\" itemprop=\"author\">Marilyn Monroe</small>\n",
            "<small class=\"author\" itemprop=\"author\">Albert Einstein</small>\n",
            "<small class=\"author\" itemprop=\"author\">André Gide</small>\n",
            "<small class=\"author\" itemprop=\"author\">Thomas A. Edison</small>\n",
            "<small class=\"author\" itemprop=\"author\">Eleanor Roosevelt</small>\n",
            "<small class=\"author\" itemprop=\"author\">Steve Martin</small>\n"
          ],
          "name": "stdout"
        }
      ]
    },
    {
      "cell_type": "code",
      "metadata": {
        "id": "0Jeun_J6TUXU",
        "colab_type": "code",
        "outputId": "7d0cd711-9cb6-4079-d313-fe6ad447bc49",
        "colab": {
          "base_uri": "https://localhost:8080/",
          "height": 36
        }
      },
      "source": [
        "sms"
      ],
      "execution_count": 0,
      "outputs": [
        {
          "output_type": "execute_result",
          "data": {
            "text/plain": [
              "[]"
            ]
          },
          "metadata": {
            "tags": []
          },
          "execution_count": 24
        }
      ]
    },
    {
      "cell_type": "code",
      "metadata": {
        "id": "TxfB_ghNUcCr",
        "colab_type": "code",
        "outputId": "32258bac-0c1c-449b-e6d9-648ddbc855b6",
        "colab": {
          "base_uri": "https://localhost:8080/",
          "height": 1000
        }
      },
      "source": [
        "container=soup.find(\"div\", {\"class\":\"container\"})\n",
        "print(container)"
      ],
      "execution_count": 8,
      "outputs": [
        {
          "output_type": "stream",
          "text": [
            "<div class=\"container\">\n",
            "<div class=\"row header-box\">\n",
            "<div class=\"col-md-8\">\n",
            "<h1>\n",
            "<a href=\"/\" style=\"text-decoration: none\">Quotes to Scrape</a>\n",
            "</h1>\n",
            "</div>\n",
            "<div class=\"col-md-4\">\n",
            "<p>\n",
            "<a href=\"/login\">Login</a>\n",
            "</p>\n",
            "</div>\n",
            "</div>\n",
            "<div class=\"row\">\n",
            "<div class=\"col-md-8\">\n",
            "<div class=\"quote\" itemscope=\"\" itemtype=\"http://schema.org/CreativeWork\">\n",
            "<span class=\"text\" itemprop=\"text\">“The world as we have created it is a process of our thinking. It cannot be changed without changing our thinking.”</span>\n",
            "<span>by <small class=\"author\" itemprop=\"author\">Albert Einstein</small>\n",
            "<a href=\"/author/Albert-Einstein\">(about)</a>\n",
            "</span>\n",
            "<div class=\"tags\">\n",
            "            Tags:\n",
            "            <meta class=\"keywords\" content=\"change,deep-thoughts,thinking,world\" itemprop=\"keywords\"/>\n",
            "<a class=\"tag\" href=\"/tag/change/page/1/\">change</a>\n",
            "<a class=\"tag\" href=\"/tag/deep-thoughts/page/1/\">deep-thoughts</a>\n",
            "<a class=\"tag\" href=\"/tag/thinking/page/1/\">thinking</a>\n",
            "<a class=\"tag\" href=\"/tag/world/page/1/\">world</a>\n",
            "</div>\n",
            "</div>\n",
            "<div class=\"quote\" itemscope=\"\" itemtype=\"http://schema.org/CreativeWork\">\n",
            "<span class=\"text\" itemprop=\"text\">“It is our choices, Harry, that show what we truly are, far more than our abilities.”</span>\n",
            "<span>by <small class=\"author\" itemprop=\"author\">J.K. Rowling</small>\n",
            "<a href=\"/author/J-K-Rowling\">(about)</a>\n",
            "</span>\n",
            "<div class=\"tags\">\n",
            "            Tags:\n",
            "            <meta class=\"keywords\" content=\"abilities,choices\" itemprop=\"keywords\"/>\n",
            "<a class=\"tag\" href=\"/tag/abilities/page/1/\">abilities</a>\n",
            "<a class=\"tag\" href=\"/tag/choices/page/1/\">choices</a>\n",
            "</div>\n",
            "</div>\n",
            "<div class=\"quote\" itemscope=\"\" itemtype=\"http://schema.org/CreativeWork\">\n",
            "<span class=\"text\" itemprop=\"text\">“There are only two ways to live your life. One is as though nothing is a miracle. The other is as though everything is a miracle.”</span>\n",
            "<span>by <small class=\"author\" itemprop=\"author\">Albert Einstein</small>\n",
            "<a href=\"/author/Albert-Einstein\">(about)</a>\n",
            "</span>\n",
            "<div class=\"tags\">\n",
            "            Tags:\n",
            "            <meta class=\"keywords\" content=\"inspirational,life,live,miracle,miracles\" itemprop=\"keywords\"/>\n",
            "<a class=\"tag\" href=\"/tag/inspirational/page/1/\">inspirational</a>\n",
            "<a class=\"tag\" href=\"/tag/life/page/1/\">life</a>\n",
            "<a class=\"tag\" href=\"/tag/live/page/1/\">live</a>\n",
            "<a class=\"tag\" href=\"/tag/miracle/page/1/\">miracle</a>\n",
            "<a class=\"tag\" href=\"/tag/miracles/page/1/\">miracles</a>\n",
            "</div>\n",
            "</div>\n",
            "<div class=\"quote\" itemscope=\"\" itemtype=\"http://schema.org/CreativeWork\">\n",
            "<span class=\"text\" itemprop=\"text\">“The person, be it gentleman or lady, who has not pleasure in a good novel, must be intolerably stupid.”</span>\n",
            "<span>by <small class=\"author\" itemprop=\"author\">Jane Austen</small>\n",
            "<a href=\"/author/Jane-Austen\">(about)</a>\n",
            "</span>\n",
            "<div class=\"tags\">\n",
            "            Tags:\n",
            "            <meta class=\"keywords\" content=\"aliteracy,books,classic,humor\" itemprop=\"keywords\"/>\n",
            "<a class=\"tag\" href=\"/tag/aliteracy/page/1/\">aliteracy</a>\n",
            "<a class=\"tag\" href=\"/tag/books/page/1/\">books</a>\n",
            "<a class=\"tag\" href=\"/tag/classic/page/1/\">classic</a>\n",
            "<a class=\"tag\" href=\"/tag/humor/page/1/\">humor</a>\n",
            "</div>\n",
            "</div>\n",
            "<div class=\"quote\" itemscope=\"\" itemtype=\"http://schema.org/CreativeWork\">\n",
            "<span class=\"text\" itemprop=\"text\">“Imperfection is beauty, madness is genius and it's better to be absolutely ridiculous than absolutely boring.”</span>\n",
            "<span>by <small class=\"author\" itemprop=\"author\">Marilyn Monroe</small>\n",
            "<a href=\"/author/Marilyn-Monroe\">(about)</a>\n",
            "</span>\n",
            "<div class=\"tags\">\n",
            "            Tags:\n",
            "            <meta class=\"keywords\" content=\"be-yourself,inspirational\" itemprop=\"keywords\"/>\n",
            "<a class=\"tag\" href=\"/tag/be-yourself/page/1/\">be-yourself</a>\n",
            "<a class=\"tag\" href=\"/tag/inspirational/page/1/\">inspirational</a>\n",
            "</div>\n",
            "</div>\n",
            "<div class=\"quote\" itemscope=\"\" itemtype=\"http://schema.org/CreativeWork\">\n",
            "<span class=\"text\" itemprop=\"text\">“Try not to become a man of success. Rather become a man of value.”</span>\n",
            "<span>by <small class=\"author\" itemprop=\"author\">Albert Einstein</small>\n",
            "<a href=\"/author/Albert-Einstein\">(about)</a>\n",
            "</span>\n",
            "<div class=\"tags\">\n",
            "            Tags:\n",
            "            <meta class=\"keywords\" content=\"adulthood,success,value\" itemprop=\"keywords\"/>\n",
            "<a class=\"tag\" href=\"/tag/adulthood/page/1/\">adulthood</a>\n",
            "<a class=\"tag\" href=\"/tag/success/page/1/\">success</a>\n",
            "<a class=\"tag\" href=\"/tag/value/page/1/\">value</a>\n",
            "</div>\n",
            "</div>\n",
            "<div class=\"quote\" itemscope=\"\" itemtype=\"http://schema.org/CreativeWork\">\n",
            "<span class=\"text\" itemprop=\"text\">“It is better to be hated for what you are than to be loved for what you are not.”</span>\n",
            "<span>by <small class=\"author\" itemprop=\"author\">André Gide</small>\n",
            "<a href=\"/author/Andre-Gide\">(about)</a>\n",
            "</span>\n",
            "<div class=\"tags\">\n",
            "            Tags:\n",
            "            <meta class=\"keywords\" content=\"life,love\" itemprop=\"keywords\"/>\n",
            "<a class=\"tag\" href=\"/tag/life/page/1/\">life</a>\n",
            "<a class=\"tag\" href=\"/tag/love/page/1/\">love</a>\n",
            "</div>\n",
            "</div>\n",
            "<div class=\"quote\" itemscope=\"\" itemtype=\"http://schema.org/CreativeWork\">\n",
            "<span class=\"text\" itemprop=\"text\">“I have not failed. I've just found 10,000 ways that won't work.”</span>\n",
            "<span>by <small class=\"author\" itemprop=\"author\">Thomas A. Edison</small>\n",
            "<a href=\"/author/Thomas-A-Edison\">(about)</a>\n",
            "</span>\n",
            "<div class=\"tags\">\n",
            "            Tags:\n",
            "            <meta class=\"keywords\" content=\"edison,failure,inspirational,paraphrased\" itemprop=\"keywords\"/>\n",
            "<a class=\"tag\" href=\"/tag/edison/page/1/\">edison</a>\n",
            "<a class=\"tag\" href=\"/tag/failure/page/1/\">failure</a>\n",
            "<a class=\"tag\" href=\"/tag/inspirational/page/1/\">inspirational</a>\n",
            "<a class=\"tag\" href=\"/tag/paraphrased/page/1/\">paraphrased</a>\n",
            "</div>\n",
            "</div>\n",
            "<div class=\"quote\" itemscope=\"\" itemtype=\"http://schema.org/CreativeWork\">\n",
            "<span class=\"text\" itemprop=\"text\">“A woman is like a tea bag; you never know how strong it is until it's in hot water.”</span>\n",
            "<span>by <small class=\"author\" itemprop=\"author\">Eleanor Roosevelt</small>\n",
            "<a href=\"/author/Eleanor-Roosevelt\">(about)</a>\n",
            "</span>\n",
            "<div class=\"tags\">\n",
            "            Tags:\n",
            "            <meta class=\"keywords\" content=\"misattributed-eleanor-roosevelt\" itemprop=\"keywords\"/>\n",
            "<a class=\"tag\" href=\"/tag/misattributed-eleanor-roosevelt/page/1/\">misattributed-eleanor-roosevelt</a>\n",
            "</div>\n",
            "</div>\n",
            "<div class=\"quote\" itemscope=\"\" itemtype=\"http://schema.org/CreativeWork\">\n",
            "<span class=\"text\" itemprop=\"text\">“A day without sunshine is like, you know, night.”</span>\n",
            "<span>by <small class=\"author\" itemprop=\"author\">Steve Martin</small>\n",
            "<a href=\"/author/Steve-Martin\">(about)</a>\n",
            "</span>\n",
            "<div class=\"tags\">\n",
            "            Tags:\n",
            "            <meta class=\"keywords\" content=\"humor,obvious,simile\" itemprop=\"keywords\"/>\n",
            "<a class=\"tag\" href=\"/tag/humor/page/1/\">humor</a>\n",
            "<a class=\"tag\" href=\"/tag/obvious/page/1/\">obvious</a>\n",
            "<a class=\"tag\" href=\"/tag/simile/page/1/\">simile</a>\n",
            "</div>\n",
            "</div>\n",
            "<nav>\n",
            "<ul class=\"pager\">\n",
            "<li class=\"next\">\n",
            "<a href=\"/page/2/\">Next <span aria-hidden=\"true\">→</span></a>\n",
            "</li>\n",
            "</ul>\n",
            "</nav>\n",
            "</div>\n",
            "<div class=\"col-md-4 tags-box\">\n",
            "<h2>Top Ten tags</h2>\n",
            "<span class=\"tag-item\">\n",
            "<a class=\"tag\" href=\"/tag/love/\" style=\"font-size: 28px\">love</a>\n",
            "</span>\n",
            "<span class=\"tag-item\">\n",
            "<a class=\"tag\" href=\"/tag/inspirational/\" style=\"font-size: 26px\">inspirational</a>\n",
            "</span>\n",
            "<span class=\"tag-item\">\n",
            "<a class=\"tag\" href=\"/tag/life/\" style=\"font-size: 26px\">life</a>\n",
            "</span>\n",
            "<span class=\"tag-item\">\n",
            "<a class=\"tag\" href=\"/tag/humor/\" style=\"font-size: 24px\">humor</a>\n",
            "</span>\n",
            "<span class=\"tag-item\">\n",
            "<a class=\"tag\" href=\"/tag/books/\" style=\"font-size: 22px\">books</a>\n",
            "</span>\n",
            "<span class=\"tag-item\">\n",
            "<a class=\"tag\" href=\"/tag/reading/\" style=\"font-size: 14px\">reading</a>\n",
            "</span>\n",
            "<span class=\"tag-item\">\n",
            "<a class=\"tag\" href=\"/tag/friendship/\" style=\"font-size: 10px\">friendship</a>\n",
            "</span>\n",
            "<span class=\"tag-item\">\n",
            "<a class=\"tag\" href=\"/tag/friends/\" style=\"font-size: 8px\">friends</a>\n",
            "</span>\n",
            "<span class=\"tag-item\">\n",
            "<a class=\"tag\" href=\"/tag/truth/\" style=\"font-size: 8px\">truth</a>\n",
            "</span>\n",
            "<span class=\"tag-item\">\n",
            "<a class=\"tag\" href=\"/tag/simile/\" style=\"font-size: 6px\">simile</a>\n",
            "</span>\n",
            "</div>\n",
            "</div>\n",
            "</div>\n"
          ],
          "name": "stdout"
        }
      ]
    },
    {
      "cell_type": "code",
      "metadata": {
        "id": "eW4oUB6adj0_",
        "colab_type": "code",
        "outputId": "a3e937c4-e539-4d4a-c169-06e649523480",
        "colab": {
          "base_uri": "https://localhost:8080/",
          "height": 1000
        }
      },
      "source": [
        "a=soup.find_all(\"div\", {\"class\":\"col-md-8\"})\n",
        "print(a)"
      ],
      "execution_count": 10,
      "outputs": [
        {
          "output_type": "stream",
          "text": [
            "[<div class=\"col-md-8\">\n",
            "<h1>\n",
            "<a href=\"/\" style=\"text-decoration: none\">Quotes to Scrape</a>\n",
            "</h1>\n",
            "</div>, <div class=\"col-md-8\">\n",
            "<div class=\"quote\" itemscope=\"\" itemtype=\"http://schema.org/CreativeWork\">\n",
            "<span class=\"text\" itemprop=\"text\">“The world as we have created it is a process of our thinking. It cannot be changed without changing our thinking.”</span>\n",
            "<span>by <small class=\"author\" itemprop=\"author\">Albert Einstein</small>\n",
            "<a href=\"/author/Albert-Einstein\">(about)</a>\n",
            "</span>\n",
            "<div class=\"tags\">\n",
            "            Tags:\n",
            "            <meta class=\"keywords\" content=\"change,deep-thoughts,thinking,world\" itemprop=\"keywords\"/>\n",
            "<a class=\"tag\" href=\"/tag/change/page/1/\">change</a>\n",
            "<a class=\"tag\" href=\"/tag/deep-thoughts/page/1/\">deep-thoughts</a>\n",
            "<a class=\"tag\" href=\"/tag/thinking/page/1/\">thinking</a>\n",
            "<a class=\"tag\" href=\"/tag/world/page/1/\">world</a>\n",
            "</div>\n",
            "</div>\n",
            "<div class=\"quote\" itemscope=\"\" itemtype=\"http://schema.org/CreativeWork\">\n",
            "<span class=\"text\" itemprop=\"text\">“It is our choices, Harry, that show what we truly are, far more than our abilities.”</span>\n",
            "<span>by <small class=\"author\" itemprop=\"author\">J.K. Rowling</small>\n",
            "<a href=\"/author/J-K-Rowling\">(about)</a>\n",
            "</span>\n",
            "<div class=\"tags\">\n",
            "            Tags:\n",
            "            <meta class=\"keywords\" content=\"abilities,choices\" itemprop=\"keywords\"/>\n",
            "<a class=\"tag\" href=\"/tag/abilities/page/1/\">abilities</a>\n",
            "<a class=\"tag\" href=\"/tag/choices/page/1/\">choices</a>\n",
            "</div>\n",
            "</div>\n",
            "<div class=\"quote\" itemscope=\"\" itemtype=\"http://schema.org/CreativeWork\">\n",
            "<span class=\"text\" itemprop=\"text\">“There are only two ways to live your life. One is as though nothing is a miracle. The other is as though everything is a miracle.”</span>\n",
            "<span>by <small class=\"author\" itemprop=\"author\">Albert Einstein</small>\n",
            "<a href=\"/author/Albert-Einstein\">(about)</a>\n",
            "</span>\n",
            "<div class=\"tags\">\n",
            "            Tags:\n",
            "            <meta class=\"keywords\" content=\"inspirational,life,live,miracle,miracles\" itemprop=\"keywords\"/>\n",
            "<a class=\"tag\" href=\"/tag/inspirational/page/1/\">inspirational</a>\n",
            "<a class=\"tag\" href=\"/tag/life/page/1/\">life</a>\n",
            "<a class=\"tag\" href=\"/tag/live/page/1/\">live</a>\n",
            "<a class=\"tag\" href=\"/tag/miracle/page/1/\">miracle</a>\n",
            "<a class=\"tag\" href=\"/tag/miracles/page/1/\">miracles</a>\n",
            "</div>\n",
            "</div>\n",
            "<div class=\"quote\" itemscope=\"\" itemtype=\"http://schema.org/CreativeWork\">\n",
            "<span class=\"text\" itemprop=\"text\">“The person, be it gentleman or lady, who has not pleasure in a good novel, must be intolerably stupid.”</span>\n",
            "<span>by <small class=\"author\" itemprop=\"author\">Jane Austen</small>\n",
            "<a href=\"/author/Jane-Austen\">(about)</a>\n",
            "</span>\n",
            "<div class=\"tags\">\n",
            "            Tags:\n",
            "            <meta class=\"keywords\" content=\"aliteracy,books,classic,humor\" itemprop=\"keywords\"/>\n",
            "<a class=\"tag\" href=\"/tag/aliteracy/page/1/\">aliteracy</a>\n",
            "<a class=\"tag\" href=\"/tag/books/page/1/\">books</a>\n",
            "<a class=\"tag\" href=\"/tag/classic/page/1/\">classic</a>\n",
            "<a class=\"tag\" href=\"/tag/humor/page/1/\">humor</a>\n",
            "</div>\n",
            "</div>\n",
            "<div class=\"quote\" itemscope=\"\" itemtype=\"http://schema.org/CreativeWork\">\n",
            "<span class=\"text\" itemprop=\"text\">“Imperfection is beauty, madness is genius and it's better to be absolutely ridiculous than absolutely boring.”</span>\n",
            "<span>by <small class=\"author\" itemprop=\"author\">Marilyn Monroe</small>\n",
            "<a href=\"/author/Marilyn-Monroe\">(about)</a>\n",
            "</span>\n",
            "<div class=\"tags\">\n",
            "            Tags:\n",
            "            <meta class=\"keywords\" content=\"be-yourself,inspirational\" itemprop=\"keywords\"/>\n",
            "<a class=\"tag\" href=\"/tag/be-yourself/page/1/\">be-yourself</a>\n",
            "<a class=\"tag\" href=\"/tag/inspirational/page/1/\">inspirational</a>\n",
            "</div>\n",
            "</div>\n",
            "<div class=\"quote\" itemscope=\"\" itemtype=\"http://schema.org/CreativeWork\">\n",
            "<span class=\"text\" itemprop=\"text\">“Try not to become a man of success. Rather become a man of value.”</span>\n",
            "<span>by <small class=\"author\" itemprop=\"author\">Albert Einstein</small>\n",
            "<a href=\"/author/Albert-Einstein\">(about)</a>\n",
            "</span>\n",
            "<div class=\"tags\">\n",
            "            Tags:\n",
            "            <meta class=\"keywords\" content=\"adulthood,success,value\" itemprop=\"keywords\"/>\n",
            "<a class=\"tag\" href=\"/tag/adulthood/page/1/\">adulthood</a>\n",
            "<a class=\"tag\" href=\"/tag/success/page/1/\">success</a>\n",
            "<a class=\"tag\" href=\"/tag/value/page/1/\">value</a>\n",
            "</div>\n",
            "</div>\n",
            "<div class=\"quote\" itemscope=\"\" itemtype=\"http://schema.org/CreativeWork\">\n",
            "<span class=\"text\" itemprop=\"text\">“It is better to be hated for what you are than to be loved for what you are not.”</span>\n",
            "<span>by <small class=\"author\" itemprop=\"author\">André Gide</small>\n",
            "<a href=\"/author/Andre-Gide\">(about)</a>\n",
            "</span>\n",
            "<div class=\"tags\">\n",
            "            Tags:\n",
            "            <meta class=\"keywords\" content=\"life,love\" itemprop=\"keywords\"/>\n",
            "<a class=\"tag\" href=\"/tag/life/page/1/\">life</a>\n",
            "<a class=\"tag\" href=\"/tag/love/page/1/\">love</a>\n",
            "</div>\n",
            "</div>\n",
            "<div class=\"quote\" itemscope=\"\" itemtype=\"http://schema.org/CreativeWork\">\n",
            "<span class=\"text\" itemprop=\"text\">“I have not failed. I've just found 10,000 ways that won't work.”</span>\n",
            "<span>by <small class=\"author\" itemprop=\"author\">Thomas A. Edison</small>\n",
            "<a href=\"/author/Thomas-A-Edison\">(about)</a>\n",
            "</span>\n",
            "<div class=\"tags\">\n",
            "            Tags:\n",
            "            <meta class=\"keywords\" content=\"edison,failure,inspirational,paraphrased\" itemprop=\"keywords\"/>\n",
            "<a class=\"tag\" href=\"/tag/edison/page/1/\">edison</a>\n",
            "<a class=\"tag\" href=\"/tag/failure/page/1/\">failure</a>\n",
            "<a class=\"tag\" href=\"/tag/inspirational/page/1/\">inspirational</a>\n",
            "<a class=\"tag\" href=\"/tag/paraphrased/page/1/\">paraphrased</a>\n",
            "</div>\n",
            "</div>\n",
            "<div class=\"quote\" itemscope=\"\" itemtype=\"http://schema.org/CreativeWork\">\n",
            "<span class=\"text\" itemprop=\"text\">“A woman is like a tea bag; you never know how strong it is until it's in hot water.”</span>\n",
            "<span>by <small class=\"author\" itemprop=\"author\">Eleanor Roosevelt</small>\n",
            "<a href=\"/author/Eleanor-Roosevelt\">(about)</a>\n",
            "</span>\n",
            "<div class=\"tags\">\n",
            "            Tags:\n",
            "            <meta class=\"keywords\" content=\"misattributed-eleanor-roosevelt\" itemprop=\"keywords\"/>\n",
            "<a class=\"tag\" href=\"/tag/misattributed-eleanor-roosevelt/page/1/\">misattributed-eleanor-roosevelt</a>\n",
            "</div>\n",
            "</div>\n",
            "<div class=\"quote\" itemscope=\"\" itemtype=\"http://schema.org/CreativeWork\">\n",
            "<span class=\"text\" itemprop=\"text\">“A day without sunshine is like, you know, night.”</span>\n",
            "<span>by <small class=\"author\" itemprop=\"author\">Steve Martin</small>\n",
            "<a href=\"/author/Steve-Martin\">(about)</a>\n",
            "</span>\n",
            "<div class=\"tags\">\n",
            "            Tags:\n",
            "            <meta class=\"keywords\" content=\"humor,obvious,simile\" itemprop=\"keywords\"/>\n",
            "<a class=\"tag\" href=\"/tag/humor/page/1/\">humor</a>\n",
            "<a class=\"tag\" href=\"/tag/obvious/page/1/\">obvious</a>\n",
            "<a class=\"tag\" href=\"/tag/simile/page/1/\">simile</a>\n",
            "</div>\n",
            "</div>\n",
            "<nav>\n",
            "<ul class=\"pager\">\n",
            "<li class=\"next\">\n",
            "<a href=\"/page/2/\">Next <span aria-hidden=\"true\">→</span></a>\n",
            "</li>\n",
            "</ul>\n",
            "</nav>\n",
            "</div>]\n"
          ],
          "name": "stdout"
        }
      ]
    },
    {
      "cell_type": "code",
      "metadata": {
        "id": "7w9ZyjVjDBIZ",
        "colab_type": "code",
        "colab": {
          "base_uri": "https://localhost:8080/",
          "height": 131
        },
        "outputId": "07f22929-e904-4e34-9161-4417512afd95"
      },
      "source": [
        "hd=soup.head\n",
        "print(hd)"
      ],
      "execution_count": 11,
      "outputs": [
        {
          "output_type": "stream",
          "text": [
            "<head>\n",
            "<meta charset=\"utf-8\"/>\n",
            "<title>Quotes to Scrape</title>\n",
            "<link href=\"/static/bootstrap.min.css\" rel=\"stylesheet\"/>\n",
            "<link href=\"/static/main.css\" rel=\"stylesheet\"/>\n",
            "</head>\n"
          ],
          "name": "stdout"
        }
      ]
    },
    {
      "cell_type": "code",
      "metadata": {
        "id": "PKYr7oYLEweR",
        "colab_type": "code",
        "colab": {
          "base_uri": "https://localhost:8080/",
          "height": 36
        },
        "outputId": "18382260-c482-4db9-843a-1c8aae16a241"
      },
      "source": [
        "ttl=soup.head.title\n",
        "print(ttl)"
      ],
      "execution_count": 12,
      "outputs": [
        {
          "output_type": "stream",
          "text": [
            "<title>Quotes to Scrape</title>\n"
          ],
          "name": "stdout"
        }
      ]
    },
    {
      "cell_type": "code",
      "metadata": {
        "id": "XCFc0CBgFVIP",
        "colab_type": "code",
        "colab": {
          "base_uri": "https://localhost:8080/",
          "height": 207
        },
        "outputId": "5800c1d1-110e-49f0-ffbc-04ea82582d5a"
      },
      "source": [
        "txts=soup.find_all(\"span\", {\"class\":\"text\"})\n",
        "for txt in txts:\n",
        "    text=txt.get_text().strip()\n",
        "    print(text)\n"
      ],
      "execution_count": 49,
      "outputs": [
        {
          "output_type": "stream",
          "text": [
            "“The world as we have created it is a process of our thinking. It cannot be changed without changing our thinking.”\n",
            "“It is our choices, Harry, that show what we truly are, far more than our abilities.”\n",
            "“There are only two ways to live your life. One is as though nothing is a miracle. The other is as though everything is a miracle.”\n",
            "“The person, be it gentleman or lady, who has not pleasure in a good novel, must be intolerably stupid.”\n",
            "“Imperfection is beauty, madness is genius and it's better to be absolutely ridiculous than absolutely boring.”\n",
            "“Try not to become a man of success. Rather become a man of value.”\n",
            "“It is better to be hated for what you are than to be loved for what you are not.”\n",
            "“I have not failed. I've just found 10,000 ways that won't work.”\n",
            "“A woman is like a tea bag; you never know how strong it is until it's in hot water.”\n",
            "“A day without sunshine is like, you know, night.”\n"
          ],
          "name": "stdout"
        }
      ]
    },
    {
      "cell_type": "code",
      "metadata": {
        "id": "btA4POJjG5Nv",
        "colab_type": "code",
        "colab": {
          "base_uri": "https://localhost:8080/",
          "height": 207
        },
        "outputId": "6edc794d-248f-4f64-b08c-265320864fec"
      },
      "source": [
        "authors=soup.find_all(\"small\",  {\"class\":\"author\"})\n",
        "for author in authors:\n",
        "    auth=author.get_text()\n",
        "    print(auth)"
      ],
      "execution_count": 46,
      "outputs": [
        {
          "output_type": "stream",
          "text": [
            "Albert Einstein\n",
            "J.K. Rowling\n",
            "Albert Einstein\n",
            "Jane Austen\n",
            "Marilyn Monroe\n",
            "Albert Einstein\n",
            "André Gide\n",
            "Thomas A. Edison\n",
            "Eleanor Roosevelt\n",
            "Steve Martin\n"
          ],
          "name": "stdout"
        }
      ]
    },
    {
      "cell_type": "code",
      "metadata": {
        "id": "iK_Pb3tgNri3",
        "colab_type": "code",
        "colab": {
          "base_uri": "https://localhost:8080/",
          "height": 777
        },
        "outputId": "00554c6e-1c5e-4d45-a32e-3b130910acd4"
      },
      "source": [
        "tags=soup.find_all(\"a\",  {\"class\":\"tag\"})\n",
        "for tag in tags:\n",
        "    t=tag.contents\n",
        "    print(t)\n"
      ],
      "execution_count": 41,
      "outputs": [
        {
          "output_type": "stream",
          "text": [
            "['change']\n",
            "['deep-thoughts']\n",
            "['thinking']\n",
            "['world']\n",
            "['abilities']\n",
            "['choices']\n",
            "['inspirational']\n",
            "['life']\n",
            "['live']\n",
            "['miracle']\n",
            "['miracles']\n",
            "['aliteracy']\n",
            "['books']\n",
            "['classic']\n",
            "['humor']\n",
            "['be-yourself']\n",
            "['inspirational']\n",
            "['adulthood']\n",
            "['success']\n",
            "['value']\n",
            "['life']\n",
            "['love']\n",
            "['edison']\n",
            "['failure']\n",
            "['inspirational']\n",
            "['paraphrased']\n",
            "['misattributed-eleanor-roosevelt']\n",
            "['humor']\n",
            "['obvious']\n",
            "['simile']\n",
            "['love']\n",
            "['inspirational']\n",
            "['life']\n",
            "['humor']\n",
            "['books']\n",
            "['reading']\n",
            "['friendship']\n",
            "['friends']\n",
            "['truth']\n",
            "['simile']\n"
          ],
          "name": "stdout"
        }
      ]
    }
  ]
}