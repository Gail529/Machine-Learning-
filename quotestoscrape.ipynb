{
  "nbformat": 4,
  "nbformat_minor": 0,
  "metadata": {
    "colab": {
      "name": "quotestoscrape.ipynb",
      "provenance": [],
      "collapsed_sections": [],
      "authorship_tag": "ABX9TyNt5SSOoJVk2zjT3zWwmRXv",
      "include_colab_link": true
    },
    "kernelspec": {
      "name": "python3",
      "display_name": "Python 3"
    }
  },
  "cells": [
    {
      "cell_type": "markdown",
      "metadata": {
        "id": "view-in-github",
        "colab_type": "text"
      },
      "source": [
        "<a href=\"https://colab.research.google.com/github/Gail529/Machine-Learning-/blob/master/quotestoscrape.ipynb\" target=\"_parent\"><img src=\"https://colab.research.google.com/assets/colab-badge.svg\" alt=\"Open In Colab\"/></a>"
      ]
    },
    {
      "cell_type": "code",
      "metadata": {
        "id": "8Sfz3BmlXeFV",
        "colab_type": "code",
        "colab": {
          "base_uri": "https://localhost:8080/",
          "height": 56
        },
        "outputId": "188663b5-6bcf-46b1-cbb7-df6c4aabcd96"
      },
      "source": [
        "from bs4 import BeautifulSoup as soup\n",
        "import requests\n",
        "myurl=\"http://quotes.toscrape.com\"\n",
        "result=requests.get(myurl)\n",
        "result.text[:1000]"
      ],
      "execution_count": 28,
      "outputs": [
        {
          "output_type": "execute_result",
          "data": {
            "text/plain": [
              "'<!DOCTYPE html>\\n<html lang=\"en\">\\n<head>\\n\\t<meta charset=\"UTF-8\">\\n\\t<title>Quotes to Scrape</title>\\n    <link rel=\"stylesheet\" href=\"/static/bootstrap.min.css\">\\n    <link rel=\"stylesheet\" href=\"/static/main.css\">\\n</head>\\n<body>\\n    <div class=\"container\">\\n        <div class=\"row header-box\">\\n            <div class=\"col-md-8\">\\n                <h1>\\n                    <a href=\"/\" style=\"text-decoration: none\">Quotes to Scrape</a>\\n                </h1>\\n            </div>\\n            <div class=\"col-md-4\">\\n                <p>\\n                \\n                    <a href=\"/login\">Login</a>\\n                \\n                </p>\\n            </div>\\n        </div>\\n    \\n\\n<div class=\"row\">\\n    <div class=\"col-md-8\">\\n\\n    <div class=\"quote\" itemscope itemtype=\"http://schema.org/CreativeWork\">\\n        <span class=\"text\" itemprop=\"text\">“The world as we have created it is a process of our thinking. It cannot be changed without changing our thinking.”</span>\\n        <span>by <small class=\"author\" itempr'"
            ]
          },
          "metadata": {
            "tags": []
          },
          "execution_count": 28
        }
      ]
    },
    {
      "cell_type": "code",
      "metadata": {
        "id": "utDcb526mLal",
        "colab_type": "code",
        "colab": {
          "base_uri": "https://localhost:8080/",
          "height": 781
        },
        "outputId": "4ed79440-b554-4d05-ae83-f4c1a758bc4d"
      },
      "source": [
        "site=soup(result.text,   'html.parser')\n",
        "print(site.prettify()[:1000])"
      ],
      "execution_count": 29,
      "outputs": [
        {
          "output_type": "stream",
          "text": [
            "<!DOCTYPE html>\n",
            "<html lang=\"en\">\n",
            " <head>\n",
            "  <meta charset=\"utf-8\"/>\n",
            "  <title>\n",
            "   Quotes to Scrape\n",
            "  </title>\n",
            "  <link href=\"/static/bootstrap.min.css\" rel=\"stylesheet\"/>\n",
            "  <link href=\"/static/main.css\" rel=\"stylesheet\"/>\n",
            " </head>\n",
            " <body>\n",
            "  <div class=\"container\">\n",
            "   <div class=\"row header-box\">\n",
            "    <div class=\"col-md-8\">\n",
            "     <h1>\n",
            "      <a href=\"/\" style=\"text-decoration: none\">\n",
            "       Quotes to Scrape\n",
            "      </a>\n",
            "     </h1>\n",
            "    </div>\n",
            "    <div class=\"col-md-4\">\n",
            "     <p>\n",
            "      <a href=\"/login\">\n",
            "       Login\n",
            "      </a>\n",
            "     </p>\n",
            "    </div>\n",
            "   </div>\n",
            "   <div class=\"row\">\n",
            "    <div class=\"col-md-8\">\n",
            "     <div class=\"quote\" itemscope=\"\" itemtype=\"http://schema.org/CreativeWork\">\n",
            "      <span class=\"text\" itemprop=\"text\">\n",
            "       “The world as we have created it is a process of our thinking. It cannot be changed without changing our thinking.”\n",
            "      </span>\n",
            "      <span>\n",
            "       by\n",
            "       <small class=\"author\" itemprop=\"author\">\n",
            "        Albert Einstein\n",
            "       </small>\n",
            "       <a href=\"/author/Albert\n"
          ],
          "name": "stdout"
        }
      ]
    },
    {
      "cell_type": "code",
      "metadata": {
        "id": "cTDJeEZkpjQJ",
        "colab_type": "code",
        "colab": {
          "base_uri": "https://localhost:8080/",
          "height": 136
        },
        "outputId": "d687045a-bdde-4a3a-ad41-0b3e0b28965c"
      },
      "source": [
        "site.find(class=\"quote\")"
      ],
      "execution_count": 37,
      "outputs": [
        {
          "output_type": "error",
          "ename": "SyntaxError",
          "evalue": "ignored",
          "traceback": [
            "\u001b[0;36m  File \u001b[0;32m\"<ipython-input-37-788139fc3c2c>\"\u001b[0;36m, line \u001b[0;32m1\u001b[0m\n\u001b[0;31m    site.find(class=\"quote\")\u001b[0m\n\u001b[0m                  ^\u001b[0m\n\u001b[0;31mSyntaxError\u001b[0m\u001b[0;31m:\u001b[0m invalid syntax\n"
          ]
        }
      ]
    },
    {
      "cell_type": "code",
      "metadata": {
        "id": "8a_EwJMra6xq",
        "colab_type": "code",
        "colab": {}
      },
      "source": [
        "uClient=req(myurl)\n",
        "pagehtml=uCient.read()\n",
        "uClient.close()\n",
        "site=soup(pagehtml,     'html.parser')"
      ],
      "execution_count": 0,
      "outputs": []
    },
    {
      "cell_type": "code",
      "metadata": {
        "id": "VDfi6vSZkkVt",
        "colab_type": "code",
        "colab": {
          "base_uri": "https://localhost:8080/",
          "height": 36
        },
        "outputId": "af39fe99-b762-4b33-d825-880f6a6fdb6f"
      },
      "source": [
        "print(site.prettify()[:1000])"
      ],
      "execution_count": 27,
      "outputs": [
        {
          "output_type": "stream",
          "text": [
            "\n"
          ],
          "name": "stdout"
        }
      ]
    },
    {
      "cell_type": "code",
      "metadata": {
        "id": "eW4oUB6adj0_",
        "colab_type": "code",
        "colab": {
          "base_uri": "https://localhost:8080/",
          "height": 136
        },
        "outputId": "a7bab095-0b4d-4445-cf9b-cf93e0a151dd"
      },
      "source": [
        "quotes=site.findAll(\"div\",   {\"class\":\"quote\"})\n",
        "print(len(quotes))\n",
        "quotes=soup.class."
      ],
      "execution_count": 14,
      "outputs": [
        {
          "output_type": "error",
          "ename": "SyntaxError",
          "evalue": "ignored",
          "traceback": [
            "\u001b[0;36m  File \u001b[0;32m\"<ipython-input-14-a1ca780686fe>\"\u001b[0;36m, line \u001b[0;32m1\u001b[0m\n\u001b[0;31m    soup.find(\"div\", class=\"quote\")\u001b[0m\n\u001b[0m                         ^\u001b[0m\n\u001b[0;31mSyntaxError\u001b[0m\u001b[0;31m:\u001b[0m invalid syntax\n"
          ]
        }
      ]
    }
  ]
}