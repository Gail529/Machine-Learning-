{
  "nbformat": 4,
  "nbformat_minor": 0,
  "metadata": {
    "colab": {
      "name": "50_complist.ipynb",
      "private_outputs": true,
      "provenance": [],
      "authorship_tag": "ABX9TyMb3sLusz2XazLIBHaTPL8Q",
      "include_colab_link": true
    },
    "kernelspec": {
      "name": "python3",
      "display_name": "Python 3"
    }
  },
  "cells": [
    {
      "cell_type": "markdown",
      "metadata": {
        "id": "view-in-github",
        "colab_type": "text"
      },
      "source": [
        "<a href=\"https://colab.research.google.com/github/Gail529/Machine-Learning-/blob/master/50_complist.ipynb\" target=\"_parent\"><img src=\"https://colab.research.google.com/assets/colab-badge.svg\" alt=\"Open In Colab\"/></a>"
      ]
    },
    {
      "cell_type": "code",
      "metadata": {
        "id": "zO8qWTHi3mXT"
      },
      "source": [
        "import numpy as nm  \n",
        "import matplotlib.pyplot as mtp  \n",
        "import pandas as pd \n",
        "from sklearn.compose import ColumnTransformer\n",
        " \n",
        " \n",
        "data_set= pd.read_csv('50_CompList.csv')  \n",
        " \n",
        "x= data_set.iloc[:, :-1].values  \n",
        "y= data_set.iloc[:, 4].values  \n",
        " \n",
        " \n",
        "#Catgorical data  \n",
        "from sklearn.preprocessing import LabelEncoder, OneHotEncoder\n",
        "labelencoder_x= LabelEncoder() \n",
        "x[:, 3]= labelencoder_x.fit_transform(x[:,3])\n",
        "onehotencoder= OneHotEncoder(categorical_features=[3]) \n",
        "x= onehotencoder.fit_transform(x).toarray()  \n",
        " \n",
        " \n",
        "x = x[:, 1:]  \n",
        " \n",
        " \n",
        "# Splitting the dataset into training and test set.  \n",
        "from sklearn.model_selection import train_test_split  \n",
        "x_train, x_test, y_train, y_test= train_test_split(x, y, test_size= 0.2, random_state=0)  \n",
        " \n",
        " \n",
        "#Fitting the MLR model to the training set:  \n",
        "from sklearn.linear_. Ggjmodel import LinearRegression  \n",
        "regressor= LinearRegression()  \n",
        "regressor.fit(x_train, y_train)  \n",
        " \n",
        "y_pred= regressor.predict(x_test)  \n",
        " \n",
        "print('Train Score: ', regressor.score(x_train, y_train))  \n",
        "print('Test Score: ', regressor.score(x_test, y_test))"
      ],
      "execution_count": null,
      "outputs": []
    },
    {
      "cell_type": "code",
      "metadata": {
        "id": "HxhAAxTBxMgZ"
      },
      "source": [
        "import numpy as nm  \r\n",
        "import matplotlib.pyplot as mtp  \r\n",
        "import pandas as pd \r\n",
        " \r\n",
        "data_set= pd.read_csv('50_CompList.csv')  \r\n",
        " \r\n",
        "x= data_set.iloc[:, :-1].values  \r\n",
        "y= data_set.iloc[:, 4].values  \r\n",
        " \r\n",
        " \r\n",
        "#Catgorical data  \r\n",
        "from sklearn.preprocessing import LabelEncoder, OneHotEncoder\r\n",
        "labelencoder_x= LabelEncoder() \r\n",
        "x[:, 3]= labelencoder_x.fit_transform(x[:,3])\r\n",
        "onehotencoder= OneHotEncoder() \r\n",
        "x=pd.get_dummies(x[:, 3])\r\n",
        " \r\n",
        " \r\n",
        " \r\n",
        "# Splitting the dataset into training and test set.  \r\n",
        "from sklearn.model_selection import train_test_split  \r\n",
        "x_train, x_test, y_train, y_test= train_test_split(x, y, test_size= 0.2, random_state=0)  \r\n",
        " \r\n",
        " \r\n",
        "#Fitting the MLR model to the training set:  \r\n",
        "from sklearn.linear_model import LinearRegression  \r\n",
        "regressor= LinearRegression()  \r\n",
        "regressor.fit(x_train, y_train)  \r\n",
        " \r\n",
        "y_pred= regressor.predict(x_test)  \r\n",
        " \r\n",
        "print('Train Score: ', regressor.score(x_train, y_train))  \r\n",
        "print('Test Score: ', regressor.score(x_test, y_test))"
      ],
      "execution_count": null,
      "outputs": []
    }
  ]
}