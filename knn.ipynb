{
  "nbformat": 4,
  "nbformat_minor": 0,
  "metadata": {
    "colab": {
      "name": "knn.ipynb",
      "provenance": [],
      "authorship_tag": "ABX9TyMaLKXyfzfIRZMmtsPQgoht",
      "include_colab_link": true
    },
    "kernelspec": {
      "name": "python3",
      "display_name": "Python 3"
    }
  },
  "cells": [
    {
      "cell_type": "markdown",
      "metadata": {
        "id": "view-in-github",
        "colab_type": "text"
      },
      "source": [
        "<a href=\"https://colab.research.google.com/github/Gail529/Machine-Learning-/blob/master/knn.ipynb\" target=\"_parent\"><img src=\"https://colab.research.google.com/assets/colab-badge.svg\" alt=\"Open In Colab\"/></a>"
      ]
    },
    {
      "cell_type": "code",
      "metadata": {
        "id": "olRw-cAIY05J",
        "colab_type": "code",
        "colab": {}
      },
      "source": [
        "import numpy as np \n",
        "import pandas as pd\n",
        "\n",
        "import matplotlib.pyplot as plt\n",
        "\n",
        "from sklearn.datasets import make_blobs #syntheticdataset\n",
        "from sklearn.neighbors import KNeighborsClassifier \n",
        "from sklearn.model_selection import train_test_split\n"
      ],
      "execution_count": null,
      "outputs": []
    },
    {
      "cell_type": "code",
      "metadata": {
        "id": "zoyCCzJycBin",
        "colab_type": "code",
        "colab": {}
      },
      "source": [
        "x,y=make_blobs(n_samples=100, n_features=5, centers=4,cluster_std=1.5,random_state=4)"
      ],
      "execution_count": null,
      "outputs": []
    },
    {
      "cell_type": "code",
      "metadata": {
        "id": "9-qUgIvDdxCy",
        "colab_type": "code",
        "colab": {}
      },
      "source": [
        "x"
      ],
      "execution_count": null,
      "outputs": []
    },
    {
      "cell_type": "code",
      "metadata": {
        "id": "lLB7YSKndxwE",
        "colab_type": "code",
        "colab": {}
      },
      "source": [
        "x_train,x_test,y_train,y_test=train_test_split(x,y,random_state=0)"
      ],
      "execution_count": null,
      "outputs": []
    },
    {
      "cell_type": "code",
      "metadata": {
        "id": "yBVnYA2dfFca",
        "colab_type": "code",
        "colab": {}
      },
      "source": [
        "knn3=KNeighborsClassifier(n_neighbors=3)\n",
        "knn1=KNeighborsClassifier(n_neighbors=1)\n",
        "knn5=KNeighborsClassifier()"
      ],
      "execution_count": null,
      "outputs": []
    },
    {
      "cell_type": "code",
      "metadata": {
        "id": "n0GDO_hZfnWh",
        "colab_type": "code",
        "colab": {}
      },
      "source": [
        "knn5.fit(x_train,y_train)\n",
        "knn1.fit(x_train,y_train)\n",
        "knn3.fit(x_train,y_train)\n"
      ],
      "execution_count": null,
      "outputs": []
    },
    {
      "cell_type": "code",
      "metadata": {
        "id": "CntujfJGgBQw",
        "colab_type": "code",
        "colab": {}
      },
      "source": [
        "y_pred_5=knn5.predict(x_test)\n",
        "y_pred_1=knn1.predict(x_test)"
      ],
      "execution_count": 12,
      "outputs": []
    }
  ]
}