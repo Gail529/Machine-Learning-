{
  "nbformat": 4,
  "nbformat_minor": 0,
  "metadata": {
    "colab": {
      "name": "lyrics.ipynb",
      "provenance": [],
      "collapsed_sections": [],
      "authorship_tag": "ABX9TyO7WK5BLScqqs/1jA5LIBlS",
      "include_colab_link": true
    },
    "kernelspec": {
      "name": "python3",
      "display_name": "Python 3"
    }
  },
  "cells": [
    {
      "cell_type": "markdown",
      "metadata": {
        "id": "view-in-github",
        "colab_type": "text"
      },
      "source": [
        "<a href=\"https://colab.research.google.com/github/Gail529/Machine-Learning-/blob/master/lyrics.ipynb\" target=\"_parent\"><img src=\"https://colab.research.google.com/assets/colab-badge.svg\" alt=\"Open In Colab\"/></a>"
      ]
    },
    {
      "cell_type": "code",
      "metadata": {
        "id": "pfqsS_fYJm1s",
        "colab_type": "code",
        "colab": {}
      },
      "source": [
        "from bs4 import BeautifulSoup \n",
        "import requests\n"
      ],
      "execution_count": 0,
      "outputs": []
    },
    {
      "cell_type": "code",
      "metadata": {
        "id": "SxETY5l4K2aa",
        "colab_type": "code",
        "colab": {}
      },
      "source": [
        "lyricsurl=\"https://www.lyrics.com/lyric/29006106/OneRepublic/Counting+Stars\"\n",
        "lyrics=requests.get(lyricsurl)\n",
        "soup=BeautifulSoup(lyrics.text, 'lxml')"
      ],
      "execution_count": 0,
      "outputs": []
    },
    {
      "cell_type": "code",
      "metadata": {
        "id": "Pe9utImtLjTv",
        "colab_type": "code",
        "outputId": "7a64f45d-d83e-4360-b70a-9ac9219efedf",
        "colab": {
          "base_uri": "https://localhost:8080/",
          "height": 36
        }
      },
      "source": [
        "header=soup.find(\"h1\" , {\"class\":\"lyric-title\"})\n",
        "header=header.text.strip()\n",
        "print(header)"
      ],
      "execution_count": 0,
      "outputs": [
        {
          "output_type": "stream",
          "text": [
            "Counting Stars\n"
          ],
          "name": "stdout"
        }
      ]
    },
    {
      "cell_type": "code",
      "metadata": {
        "id": "Ni7o7HHFNqCu",
        "colab_type": "code",
        "outputId": "1347b18b-d809-4083-d5d4-c9794145ef36",
        "colab": {
          "base_uri": "https://localhost:8080/",
          "height": 1000
        }
      },
      "source": [
        "lyr=soup.find(\"pre\" ,{\"class\":\"lyric-body\"})\n",
        "lyr=lyr.text.strip()\n",
        "print(lyr)"
      ],
      "execution_count": 0,
      "outputs": [
        {
          "output_type": "stream",
          "text": [
            "Lately I been, I been losing sleep\n",
            "Dreaming about the things that we could be\n",
            "But baby I been, I been prayin' hard\n",
            "Said no more counting dollars\n",
            "We'll be counting stars\n",
            "Yeah, we'll be counting stars\n",
            "\n",
            "I see this life\n",
            "Like a swinging vine\n",
            "Swing my heart across the line\n",
            "In my faces flashing signs\n",
            "Seek it out and ye shall find\n",
            "The old, but I'm not that old\n",
            "Young, but I'm not that bold\n",
            "And I don't think the world is sold\n",
            "I'm just doing what we're told\n",
            "I, feel something so right\n",
            "Doing the wrong thing\n",
            "I, feel something so wrong\n",
            "But doing the right thing\n",
            "I could lie, could lie, could lie\n",
            "Everything that kills me makes me feel alive\n",
            "\n",
            "Lately I been, I been losing sleep\n",
            "Dreaming 'bout the things that we could be\n",
            "Baby I been, I been prayin' hard\n",
            "Said no more counting dollars\n",
            "We'll be counting stars\n",
            "Lately I been, I been losing sleep\n",
            "Dreaming 'bout the things that we could be\n",
            "But baby I been, I been prayin' hard\n",
            "Said no more counting dollars\n",
            "We'll be, we'll be counting stars\n",
            "\n",
            "I feel the love\n",
            "And I feel it burn\n",
            "Down this river every turn\n",
            "Hope is a four letter word\n",
            "Make that money\n",
            "Watch it burn\n",
            "Old, but I'm not that old\n",
            "Young, but I'm not that bold\n",
            "And I don't think the world is sold\n",
            "I'm just doing what we're told\n",
            "I, feel something so wrong\n",
            "But doing the right thing\n",
            "I could lie, could lie, could lie\n",
            "Everything that drowns me makes me wanna fly\n",
            "\n",
            "Lately I been, I been losing sleep\n",
            "Dreaming about the things that we could be\n",
            "Baby I been, I been prayin' hard\n",
            "Said no more counting dollars\n",
            "We'll be counting stars\n",
            "Lately I been, I been losing sleep\n",
            "Dreaming 'bout the things that we could be\n",
            "But baby I been, I been prayin' hard\n",
            "Said no more counting dollars\n",
            "We'll be, we'll be counting stars\n",
            "\n",
            "Take that money and watch it burn\n",
            "Sink in the river the lessons I learned\n",
            "\n",
            "Take that money and watch it burn\n",
            "Sink in the river the lessons I learned\n",
            "\n",
            "Take that money and watch it burn\n",
            "Sink in the river the lessons I learned\n",
            "\n",
            "Take that money and watch it burn\n",
            "Sink in the river the lessons I learned\n",
            "\n",
            "Everything that kills me makes me feel alive\n",
            "\n",
            "Lately I been, I been losing sleep\n",
            "Dreaming 'bout the things that we could be\n",
            "Baby I been, I been prayin' hard\n",
            "Said no more counting dollars\n",
            "We'll be counting stars\n",
            "Lately I been, I been losing sleep\n",
            "Dreaming 'bout the things that we could be\n",
            "Baby I been, I been prayin' hard\n",
            "Said no more counting dollars\n",
            "We'll be, we'll be counting stars\n",
            "\n",
            "(Take that money and watch it burn)\n",
            "(Sink in the river the lessons I learned)\n",
            "\n",
            "(Take that money and watch it burn)\n",
            "(Sink in the river the lessons I learned)\n",
            "\n",
            "(Take that money and watch it burn)\n",
            "(Sink in the river the lessons I learned)\n",
            "\n",
            "(Take that money and watch it burn)\n",
            "(Sink in the river the lessons I learned)\n"
          ],
          "name": "stdout"
        }
      ]
    },
    {
      "cell_type": "code",
      "metadata": {
        "id": "2WW1ozV4Z82a",
        "colab_type": "code",
        "colab": {}
      },
      "source": [
        "lyricsurl=\"https://www.lyrics.com/lyric/29006105/OneRepublic/If+I+Lose+Myself\"\n",
        "lyrics=requests.get(lyricsurl)\n",
        "soup1=BeautifulSoup(lyrics.text, 'lxml')\n"
      ],
      "execution_count": 0,
      "outputs": []
    },
    {
      "cell_type": "code",
      "metadata": {
        "id": "Dnso8r8M9YGU",
        "colab_type": "code",
        "outputId": "c9d4a936-36ff-493e-a0fa-12e54c4abde7",
        "colab": {
          "base_uri": "https://localhost:8080/",
          "height": 36
        }
      },
      "source": [
        "header=soup1.find(\"h1\" , {\"class\":\"lyric-title\"})\n",
        "header=header.text.strip()\n",
        "print(header)"
      ],
      "execution_count": 0,
      "outputs": [
        {
          "output_type": "stream",
          "text": [
            "If I Lose Myself\n"
          ],
          "name": "stdout"
        }
      ]
    },
    {
      "cell_type": "code",
      "metadata": {
        "id": "X7cG9VBh90EO",
        "colab_type": "code",
        "outputId": "54cc0ba3-53ac-46f2-ddd8-ae96f3fb2fc1",
        "colab": {
          "base_uri": "https://localhost:8080/",
          "height": 910
        }
      },
      "source": [
        "lyr=soup1.find(\"pre\" ,{\"class\":\"lyric-body\"})\n",
        "lyr=lyr.text.strip()\n",
        "print(lyr)"
      ],
      "execution_count": 0,
      "outputs": [
        {
          "output_type": "stream",
          "text": [
            "I stared up at the sun\n",
            "Thought of all other people, places and things I've loved\n",
            "I stared up just to see\n",
            "Of all other faces, you are the one next to me\n",
            "You can feel the light start to tremble\n",
            "Washing what you know out the sea yeah\n",
            "You can see your life out of the window, tonight\n",
            "\n",
            "If I lose myself tonight\n",
            "It'll be by your side\n",
            "If I lose myself tonight (whoa, whoa, whoa)\n",
            "\n",
            "If I lose myself tonight\n",
            "It'll be you and I\n",
            "Lose myself tonight\n",
            "\n",
            "I woke up with the sun\n",
            "Thought of all other people, places and things I've loved\n",
            "I woke up just to see\n",
            "Of all other faces you were the one next to me\n",
            "You can feel the light start to tremble\n",
            "Washing what you know out the sea yeah\n",
            "You can see your life out of the window, tonight\n",
            "\n",
            "If I lose myself tonight\n",
            "It'll be by your side\n",
            "If I lose myself tonight (whoa, whoa, whoa)\n",
            "\n",
            "If I lose myself tonight\n",
            "It'll be you and I\n",
            "Lose myself tonight (whoa)\n",
            "Whoo\n",
            "Oh ooh\n",
            "\n",
            "Take us down and we keep trying\n",
            "40,000 feet keep flying\n",
            "Take us down and we keep trying\n",
            "40,000 feet keep flying\n",
            "Take us down and we keep trying\n",
            "40,000 feet keep flying\n",
            "Take us down and we keep trying\n",
            "40,000 feet keep flying\n",
            "\n",
            "Lose myself\n",
            "If I lose myself tonight\n",
            "Hoo hoo ooh\n",
            "Hoo hoo ooh\n"
          ],
          "name": "stdout"
        }
      ]
    },
    {
      "cell_type": "code",
      "metadata": {
        "id": "eceB4t7hZ754",
        "colab_type": "code",
        "colab": {}
      },
      "source": [
        "lyr=soup1.find_all(\"td\" , {\"class\":\"tal qx fsl\"})\n",
        "for row in lyr:\n",
        "    row.find(\"a\")\n",
        "    print(row.get_text())"
      ],
      "execution_count": 0,
      "outputs": []
    },
    {
      "cell_type": "code",
      "metadata": {
        "id": "QcojSePqa71H",
        "colab_type": "code",
        "colab": {}
      },
      "source": [
        "lyr=soup1.find_all(\"td\" , {\"class\":\"tal qx fsl\"})\n",
        "for row in lyr:\n",
        "    r=soup1.find(\"a\").get('href')\n",
        "    print(r)"
      ],
      "execution_count": 0,
      "outputs": []
    },
    {
      "cell_type": "code",
      "metadata": {
        "id": "yILES3Ulnmqg",
        "colab_type": "code",
        "colab": {}
      },
      "source": [
        "from urllib.request import urlopen\n",
        "import csv"
      ],
      "execution_count": 0,
      "outputs": []
    },
    {
      "cell_type": "code",
      "metadata": {
        "id": "eh1UPyMvh81E",
        "colab_type": "code",
        "colab": {}
      },
      "source": [
        "lyrurl=[\"https://www.lyrics.com/lyric/29006106/OneRepublic/Counting+Stars\" ,\n",
        "\"https://www.lyrics.com/lyric/29006105/OneRepublic/If+I+Lose+Myself\" ,\n",
        "\"https://www.lyrics.com/lyric/29006104/OneRepublic/Feel+Again\",\n",
        "\"https://www.lyrics.com/lyric/29006102/OneRepublic/I+Lived\",\n",
        "\"https://www.lyrics.com/lyric/29006096/OneRepublic/Preacher\",\n",
        "\"https://www.lyrics.com/lyric/18247389/OneRepublic/Secrets\",\n",
        "\"https://www.lyrics.com/lyric/27701253/OneRepublic/Made+For+You\",\n",
        "\"https://www.lyrics.com/lyric/27701252/OneRepublic/All+the+Right+Moves\"]\n",
        "\n"
      ],
      "execution_count": 0,
      "outputs": []
    },
    {
      "cell_type": "code",
      "metadata": {
        "id": "aikCQjWwfr1t",
        "colab_type": "code",
        "colab": {
          "base_uri": "https://localhost:8080/",
          "height": 407
        },
        "outputId": "352b203e-e0de-40c5-a5eb-026b07eb45b2"
      },
      "source": [
        "results = []\n",
        "\n",
        "for link in lyrurl:\n",
        "    try:\n",
        "        song=urlopen(lyrurl)\n",
        "        soup=BeautifulSoup(song.text,  'lxml')\n",
        "\n",
        "        song_header=soup.find('h1' , {\"class\":\"lyric-title\"})\n",
        "        title=song_header.text.strip()\n",
        "        print(title)\n",
        "    except TypeError:\n",
        "        continue\n",
        "    results.append((title))\n",
        "\n",
        "with open('lyrics.csv' ,'w' )as csv_file:\n",
        "    writer=csv.writer(csv_file)\n",
        "    for  result in results:\n",
        "        writer.writerow(result[0],result[1],result[2],result[3],result[4],result[5],result[6],result[7])"
      ],
      "execution_count": 12,
      "outputs": [
        {
          "output_type": "error",
          "ename": "AttributeError",
          "evalue": "ignored",
          "traceback": [
            "\u001b[0;31m---------------------------------------------------------------------------\u001b[0m",
            "\u001b[0;31mAttributeError\u001b[0m                            Traceback (most recent call last)",
            "\u001b[0;32m<ipython-input-12-4ab41d7849af>\u001b[0m in \u001b[0;36m<module>\u001b[0;34m()\u001b[0m\n\u001b[1;32m      3\u001b[0m \u001b[0;32mfor\u001b[0m \u001b[0mlink\u001b[0m \u001b[0;32min\u001b[0m \u001b[0mlyrurl\u001b[0m\u001b[0;34m:\u001b[0m\u001b[0;34m\u001b[0m\u001b[0;34m\u001b[0m\u001b[0m\n\u001b[1;32m      4\u001b[0m     \u001b[0;32mtry\u001b[0m\u001b[0;34m:\u001b[0m\u001b[0;34m\u001b[0m\u001b[0;34m\u001b[0m\u001b[0m\n\u001b[0;32m----> 5\u001b[0;31m         \u001b[0msong\u001b[0m\u001b[0;34m=\u001b[0m\u001b[0murlopen\u001b[0m\u001b[0;34m(\u001b[0m\u001b[0mlyrurl\u001b[0m\u001b[0;34m)\u001b[0m\u001b[0;34m\u001b[0m\u001b[0;34m\u001b[0m\u001b[0m\n\u001b[0m\u001b[1;32m      6\u001b[0m         \u001b[0msoup\u001b[0m\u001b[0;34m=\u001b[0m\u001b[0mBeautifulSoup\u001b[0m\u001b[0;34m(\u001b[0m\u001b[0msong\u001b[0m\u001b[0;34m.\u001b[0m\u001b[0mtext\u001b[0m\u001b[0;34m,\u001b[0m  \u001b[0;34m'lxml'\u001b[0m\u001b[0;34m)\u001b[0m\u001b[0;34m\u001b[0m\u001b[0;34m\u001b[0m\u001b[0m\n\u001b[1;32m      7\u001b[0m \u001b[0;34m\u001b[0m\u001b[0m\n",
            "\u001b[0;32m/usr/lib/python3.6/urllib/request.py\u001b[0m in \u001b[0;36murlopen\u001b[0;34m(url, data, timeout, cafile, capath, cadefault, context)\u001b[0m\n\u001b[1;32m    221\u001b[0m     \u001b[0;32melse\u001b[0m\u001b[0;34m:\u001b[0m\u001b[0;34m\u001b[0m\u001b[0;34m\u001b[0m\u001b[0m\n\u001b[1;32m    222\u001b[0m         \u001b[0mopener\u001b[0m \u001b[0;34m=\u001b[0m \u001b[0m_opener\u001b[0m\u001b[0;34m\u001b[0m\u001b[0;34m\u001b[0m\u001b[0m\n\u001b[0;32m--> 223\u001b[0;31m     \u001b[0;32mreturn\u001b[0m \u001b[0mopener\u001b[0m\u001b[0;34m.\u001b[0m\u001b[0mopen\u001b[0m\u001b[0;34m(\u001b[0m\u001b[0murl\u001b[0m\u001b[0;34m,\u001b[0m \u001b[0mdata\u001b[0m\u001b[0;34m,\u001b[0m \u001b[0mtimeout\u001b[0m\u001b[0;34m)\u001b[0m\u001b[0;34m\u001b[0m\u001b[0;34m\u001b[0m\u001b[0m\n\u001b[0m\u001b[1;32m    224\u001b[0m \u001b[0;34m\u001b[0m\u001b[0m\n\u001b[1;32m    225\u001b[0m \u001b[0;32mdef\u001b[0m \u001b[0minstall_opener\u001b[0m\u001b[0;34m(\u001b[0m\u001b[0mopener\u001b[0m\u001b[0;34m)\u001b[0m\u001b[0;34m:\u001b[0m\u001b[0;34m\u001b[0m\u001b[0;34m\u001b[0m\u001b[0m\n",
            "\u001b[0;32m/usr/lib/python3.6/urllib/request.py\u001b[0m in \u001b[0;36mopen\u001b[0;34m(self, fullurl, data, timeout)\u001b[0m\n\u001b[1;32m    515\u001b[0m                 \u001b[0mreq\u001b[0m\u001b[0;34m.\u001b[0m\u001b[0mdata\u001b[0m \u001b[0;34m=\u001b[0m \u001b[0mdata\u001b[0m\u001b[0;34m\u001b[0m\u001b[0;34m\u001b[0m\u001b[0m\n\u001b[1;32m    516\u001b[0m \u001b[0;34m\u001b[0m\u001b[0m\n\u001b[0;32m--> 517\u001b[0;31m         \u001b[0mreq\u001b[0m\u001b[0;34m.\u001b[0m\u001b[0mtimeout\u001b[0m \u001b[0;34m=\u001b[0m \u001b[0mtimeout\u001b[0m\u001b[0;34m\u001b[0m\u001b[0;34m\u001b[0m\u001b[0m\n\u001b[0m\u001b[1;32m    518\u001b[0m         \u001b[0mprotocol\u001b[0m \u001b[0;34m=\u001b[0m \u001b[0mreq\u001b[0m\u001b[0;34m.\u001b[0m\u001b[0mtype\u001b[0m\u001b[0;34m\u001b[0m\u001b[0;34m\u001b[0m\u001b[0m\n\u001b[1;32m    519\u001b[0m \u001b[0;34m\u001b[0m\u001b[0m\n",
            "\u001b[0;31mAttributeError\u001b[0m: 'list' object has no attribute 'timeout'"
          ]
        }
      ]
    },
    {
      "cell_type": "code",
      "metadata": {
        "id": "ScYzWTczkYqd",
        "colab_type": "code",
        "colab": {}
      },
      "source": [
        "\"https://www.lyrics.com/lyric/27701250/OneRepublic/Everybody+Loves+Me\"\n",
        "      \"https://www.lyrics.com/lyric/27701248/OneRepublic/Good+Life\"\n",
        "      \"https://www.lyrics.com/lyric/35397121/OneRepublic/Waking+Up\"\n",
        "      \"https://www.lyrics.com/lyric/27700928/OneRepublic/Mercy\"\n",
        "      \"https://www.lyrics.com/lyric/35397120/OneRepublic/Marchin+On\"\n",
        "\n",
        "      song_lyr=soup.find(\"pre\" ,{\"class\":\"lyric-body\"})\n",
        "        lyrics=song_lyr.text.strip()\n",
        "        print(lyrics)\n"
      ],
      "execution_count": 0,
      "outputs": []
    }
  ]
}