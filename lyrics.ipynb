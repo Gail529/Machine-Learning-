{
  "nbformat": 4,
  "nbformat_minor": 0,
  "metadata": {
    "colab": {
      "name": "lyrics.ipynb",
      "provenance": [],
      "collapsed_sections": [],
      "authorship_tag": "ABX9TyO8+zBTO5AkXgsgB6pI0Vry",
      "include_colab_link": true
    },
    "kernelspec": {
      "name": "python3",
      "display_name": "Python 3"
    }
  },
  "cells": [
    {
      "cell_type": "markdown",
      "metadata": {
        "id": "view-in-github",
        "colab_type": "text"
      },
      "source": [
        "<a href=\"https://colab.research.google.com/github/Gail529/Machine-Learning-/blob/master/lyrics.ipynb\" target=\"_parent\"><img src=\"https://colab.research.google.com/assets/colab-badge.svg\" alt=\"Open In Colab\"/></a>"
      ]
    },
    {
      "cell_type": "code",
      "metadata": {
        "id": "pfqsS_fYJm1s",
        "colab_type": "code",
        "colab": {}
      },
      "source": [
        "from bs4 import BeautifulSoup \n",
        "import requests\n"
      ],
      "execution_count": 0,
      "outputs": []
    },
    {
      "cell_type": "code",
      "metadata": {
        "id": "SxETY5l4K2aa",
        "colab_type": "code",
        "colab": {}
      },
      "source": [
        "lyricsurl=\"https://www.lyrics.com/lyric/29006106/OneRepublic/Counting+Stars\"\n",
        "lyrics=requests.get(lyricsurl)\n",
        "soup=BeautifulSoup(lyrics.text, 'lxml')"
      ],
      "execution_count": 0,
      "outputs": []
    },
    {
      "cell_type": "code",
      "metadata": {
        "id": "Pe9utImtLjTv",
        "colab_type": "code",
        "outputId": "2a249d4e-7006-4d3a-9825-216980ddb810",
        "colab": {
          "base_uri": "https://localhost:8080/",
          "height": 36
        }
      },
      "source": [
        "header=soup.find(\"h1\" , {\"class\":\"lyric-title\"})\n",
        "header=header.text.strip()\n",
        "print(header)"
      ],
      "execution_count": 0,
      "outputs": [
        {
          "output_type": "stream",
          "text": [
            "Counting Stars\n"
          ],
          "name": "stdout"
        }
      ]
    },
    {
      "cell_type": "code",
      "metadata": {
        "id": "Ni7o7HHFNqCu",
        "colab_type": "code",
        "outputId": "1347b18b-d809-4083-d5d4-c9794145ef36",
        "colab": {
          "base_uri": "https://localhost:8080/",
          "height": 1000
        }
      },
      "source": [
        "lyr=soup.find(\"pre\" ,{\"class\":\"lyric-body\"})\n",
        "lyr=lyr.text.strip()\n",
        "print(lyr)"
      ],
      "execution_count": 0,
      "outputs": [
        {
          "output_type": "stream",
          "text": [
            "Lately I been, I been losing sleep\n",
            "Dreaming about the things that we could be\n",
            "But baby I been, I been prayin' hard\n",
            "Said no more counting dollars\n",
            "We'll be counting stars\n",
            "Yeah, we'll be counting stars\n",
            "\n",
            "I see this life\n",
            "Like a swinging vine\n",
            "Swing my heart across the line\n",
            "In my faces flashing signs\n",
            "Seek it out and ye shall find\n",
            "The old, but I'm not that old\n",
            "Young, but I'm not that bold\n",
            "And I don't think the world is sold\n",
            "I'm just doing what we're told\n",
            "I, feel something so right\n",
            "Doing the wrong thing\n",
            "I, feel something so wrong\n",
            "But doing the right thing\n",
            "I could lie, could lie, could lie\n",
            "Everything that kills me makes me feel alive\n",
            "\n",
            "Lately I been, I been losing sleep\n",
            "Dreaming 'bout the things that we could be\n",
            "Baby I been, I been prayin' hard\n",
            "Said no more counting dollars\n",
            "We'll be counting stars\n",
            "Lately I been, I been losing sleep\n",
            "Dreaming 'bout the things that we could be\n",
            "But baby I been, I been prayin' hard\n",
            "Said no more counting dollars\n",
            "We'll be, we'll be counting stars\n",
            "\n",
            "I feel the love\n",
            "And I feel it burn\n",
            "Down this river every turn\n",
            "Hope is a four letter word\n",
            "Make that money\n",
            "Watch it burn\n",
            "Old, but I'm not that old\n",
            "Young, but I'm not that bold\n",
            "And I don't think the world is sold\n",
            "I'm just doing what we're told\n",
            "I, feel something so wrong\n",
            "But doing the right thing\n",
            "I could lie, could lie, could lie\n",
            "Everything that drowns me makes me wanna fly\n",
            "\n",
            "Lately I been, I been losing sleep\n",
            "Dreaming about the things that we could be\n",
            "Baby I been, I been prayin' hard\n",
            "Said no more counting dollars\n",
            "We'll be counting stars\n",
            "Lately I been, I been losing sleep\n",
            "Dreaming 'bout the things that we could be\n",
            "But baby I been, I been prayin' hard\n",
            "Said no more counting dollars\n",
            "We'll be, we'll be counting stars\n",
            "\n",
            "Take that money and watch it burn\n",
            "Sink in the river the lessons I learned\n",
            "\n",
            "Take that money and watch it burn\n",
            "Sink in the river the lessons I learned\n",
            "\n",
            "Take that money and watch it burn\n",
            "Sink in the river the lessons I learned\n",
            "\n",
            "Take that money and watch it burn\n",
            "Sink in the river the lessons I learned\n",
            "\n",
            "Everything that kills me makes me feel alive\n",
            "\n",
            "Lately I been, I been losing sleep\n",
            "Dreaming 'bout the things that we could be\n",
            "Baby I been, I been prayin' hard\n",
            "Said no more counting dollars\n",
            "We'll be counting stars\n",
            "Lately I been, I been losing sleep\n",
            "Dreaming 'bout the things that we could be\n",
            "Baby I been, I been prayin' hard\n",
            "Said no more counting dollars\n",
            "We'll be, we'll be counting stars\n",
            "\n",
            "(Take that money and watch it burn)\n",
            "(Sink in the river the lessons I learned)\n",
            "\n",
            "(Take that money and watch it burn)\n",
            "(Sink in the river the lessons I learned)\n",
            "\n",
            "(Take that money and watch it burn)\n",
            "(Sink in the river the lessons I learned)\n",
            "\n",
            "(Take that money and watch it burn)\n",
            "(Sink in the river the lessons I learned)\n"
          ],
          "name": "stdout"
        }
      ]
    },
    {
      "cell_type": "code",
      "metadata": {
        "id": "2WW1ozV4Z82a",
        "colab_type": "code",
        "colab": {}
      },
      "source": [
        "lyricsurl=\"https://www.lyrics.com/album/1309259/Dreaming-Out-Loud-%5BTarget-Exclusive%5D\"\n",
        "lyrics=requests.get(lyricsurl)\n",
        "soup1=BeautifulSoup(lyrics.text, 'html.parser')"
      ],
      "execution_count": 0,
      "outputs": []
    },
    {
      "cell_type": "code",
      "metadata": {
        "id": "eceB4t7hZ754",
        "colab_type": "code",
        "outputId": "f37e94be-2a35-44be-ea73-2f6429e7be58",
        "colab": {
          "base_uri": "https://localhost:8080/",
          "height": 587
        }
      },
      "source": [
        "lyr=soup1.find_all(\"td\" , {\"class\":\"tal qx fsl\"})\n",
        "for row in lyr:\n",
        "    row.find(\"a\")\n",
        "    print(row.get_text())"
      ],
      "execution_count": 29,
      "outputs": [
        {
          "output_type": "stream",
          "text": [
            "1\n",
            "Say (All I Need)\n",
            "2\n",
            "Mercy\n",
            "3\n",
            "Stop and Stare\n",
            "4\n",
            "Apologize\n",
            "5\n",
            "Goodbye, Apathy\n",
            "6\n",
            "All Fall Down\n",
            "7\n",
            "Tyrant\n",
            "8\n",
            "Prodigal\n",
            "9\n",
            "Won't Stop\n",
            "10\n",
            "All We Are\n",
            "11\n",
            "Someone to Save You\n",
            "12\n",
            "Come Home\n",
            "13\n",
            "Dreaming out Loud [*]\n",
            "14\n",
            "Something's Not Right Here [*]\n",
            "15\n",
            "Apologize [Remix]\n"
          ],
          "name": "stdout"
        }
      ]
    },
    {
      "cell_type": "code",
      "metadata": {
        "id": "QcojSePqa71H",
        "colab_type": "code",
        "outputId": "9269a72d-baa1-4505-9adc-5a25bd141530",
        "colab": {
          "base_uri": "https://localhost:8080/",
          "height": 587
        }
      },
      "source": [
        "lyr=soup1.find_all(\"td\" , {\"class\":\"tal qx fsl\"})\n",
        "for row in lyr:\n",
        "    r=soup1.find(\"a\").get('href')\n",
        "    print(r)"
      ],
      "execution_count": 32,
      "outputs": [
        {
          "output_type": "stream",
          "text": [
            "login.php\n",
            "login.php\n",
            "login.php\n",
            "login.php\n",
            "login.php\n",
            "login.php\n",
            "login.php\n",
            "login.php\n",
            "login.php\n",
            "login.php\n",
            "login.php\n",
            "login.php\n",
            "login.php\n",
            "login.php\n",
            "login.php\n",
            "login.php\n",
            "login.php\n",
            "login.php\n",
            "login.php\n",
            "login.php\n",
            "login.php\n",
            "login.php\n",
            "login.php\n",
            "login.php\n",
            "login.php\n",
            "login.php\n",
            "login.php\n",
            "login.php\n",
            "login.php\n",
            "login.php\n"
          ],
          "name": "stdout"
        }
      ]
    },
    {
      "cell_type": "code",
      "metadata": {
        "id": "eh1UPyMvh81E",
        "colab_type": "code",
        "outputId": "6965a488-3def-45f2-fde3-3d562c314d41",
        "colab": {
          "base_uri": "https://localhost:8080/",
          "height": 36
        }
      },
      "source": [
        "lyr=soup1.find('a').get('href')\n",
        "print(lyr)"
      ],
      "execution_count": 36,
      "outputs": [
        {
          "output_type": "stream",
          "text": [
            "login.php\n"
          ],
          "name": "stdout"
        }
      ]
    }
  ]
}