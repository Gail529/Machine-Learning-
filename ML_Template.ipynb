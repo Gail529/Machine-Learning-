{
  "nbformat": 4,
  "nbformat_minor": 0,
  "metadata": {
    "colab": {
      "name": "ML_Template.ipynb",
      "private_outputs": true,
      "provenance": [],
      "authorship_tag": "ABX9TyPv83dNgHK9XSRfqY2frqPn",
      "include_colab_link": true
    },
    "kernelspec": {
      "name": "python3",
      "display_name": "Python 3"
    },
    "language_info": {
      "name": "python"
    }
  },
  "cells": [
    {
      "cell_type": "markdown",
      "metadata": {
        "id": "view-in-github",
        "colab_type": "text"
      },
      "source": [
        "<a href=\"https://colab.research.google.com/github/Gail529/Machine-Learning-/blob/master/ML_Template.ipynb\" target=\"_parent\"><img src=\"https://colab.research.google.com/assets/colab-badge.svg\" alt=\"Open In Colab\"/></a>"
      ]
    },
    {
      "cell_type": "code",
      "metadata": {
        "id": "0hC5UKvBTWkl"
      },
      "source": [
        ""
      ],
      "execution_count": null,
      "outputs": []
    },
    {
      "cell_type": "markdown",
      "metadata": {
        "id": "SyLuilx0TYgZ"
      },
      "source": [
        "Loading necessary pipelines"
      ]
    },
    {
      "cell_type": "markdown",
      "metadata": {
        "id": "6PcJMHAYTb08"
      },
      "source": [
        "EDA"
      ]
    },
    {
      "cell_type": "markdown",
      "metadata": {
        "id": "maCmhewVTdiB"
      },
      "source": [
        "Deal with Values"
      ]
    },
    {
      "cell_type": "markdown",
      "metadata": {
        "id": "FLHNuf0cTiUA"
      },
      "source": [
        "Scaling numeric variables"
      ]
    },
    {
      "cell_type": "markdown",
      "metadata": {
        "id": "lAlZjVVXT4DT"
      },
      "source": [
        "Encoding Categorical variables"
      ]
    },
    {
      "cell_type": "markdown",
      "metadata": {
        "id": "njB7t139UF9J"
      },
      "source": [
        "Feature Importance"
      ]
    },
    {
      "cell_type": "markdown",
      "metadata": {
        "id": "mHbp9c24UOf6"
      },
      "source": [
        "Check for outliers"
      ]
    },
    {
      "cell_type": "markdown",
      "metadata": {
        "id": "OR_ed96YUVKY"
      },
      "source": [
        "Deal with class Imbalance"
      ]
    },
    {
      "cell_type": "markdown",
      "metadata": {
        "id": "lC9hLsuXUenb"
      },
      "source": [
        "Dimensionality reduction"
      ]
    },
    {
      "cell_type": "markdown",
      "metadata": {
        "id": "pNYERE2AUnkP"
      },
      "source": [
        "split data"
      ]
    },
    {
      "cell_type": "markdown",
      "metadata": {
        "id": "_uZjQxhxUo96"
      },
      "source": [
        "Model training and evaluation"
      ]
    }
  ]
}