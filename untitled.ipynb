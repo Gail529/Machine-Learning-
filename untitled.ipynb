{
  "nbformat": 4,
  "nbformat_minor": 0,
  "metadata": {
    "colab": {
      "name": ".ipynb",
      "provenance": [],
      "private_outputs": true,
      "authorship_tag": "ABX9TyMuk6nFes6NNJdFJc60krmY",
      "include_colab_link": true
    },
    "kernelspec": {
      "name": "python3",
      "display_name": "Python 3"
    }
  },
  "cells": [
    {
      "cell_type": "markdown",
      "metadata": {
        "id": "view-in-github",
        "colab_type": "text"
      },
      "source": [
        "<a href=\"https://colab.research.google.com/github/Gail529/Machine-Learning-/blob/master/untitled.ipynb\" target=\"_parent\"><img src=\"https://colab.research.google.com/assets/colab-badge.svg\" alt=\"Open In Colab\"/></a>"
      ]
    },
    {
      "cell_type": "markdown",
      "metadata": {
        "id": "ZHgxq3NuW6Xk",
        "colab_type": "text"
      },
      "source": [
        "My first web scraping exercise"
      ]
    },
    {
      "cell_type": "code",
      "metadata": {
        "id": "0FRWUc_bS3OJ",
        "colab_type": "code",
        "colab": {}
      },
      "source": [
        "\n"
      ],
      "execution_count": 0,
      "outputs": []
    },
    {
      "cell_type": "markdown",
      "metadata": {
        "id": "FljRX1Qmhub4",
        "colab_type": "text"
      },
      "source": [
        "importing the required packages BeautifulSoup and Request"
      ]
    },
    {
      "cell_type": "code",
      "metadata": {
        "id": "Ilaggn-mVJtx",
        "colab_type": "code",
        "colab": {}
      },
      "source": [
        "mainurl=\"http://books.toscrape.com/index.html\"\n",
        "import requests \n",
        "result=requests.get(mainurl)\n",
        "\n",
        "from  bs4 import BeautifulSoup\n",
        "soup=BeautifulSoup(result.text, 'html.parser')\n",
        "print(soup.prettify()[:1000])\n"
      ],
      "execution_count": 0,
      "outputs": []
    },
    {
      "cell_type": "code",
      "metadata": {
        "id": "25uXkm8kYH8g",
        "colab_type": "code",
        "colab": {}
      },
      "source": [
        "def getAndParseURL (url):\n",
        "        result=requests.get(url)\n",
        "        soup=BeautifulSoup(result.text,'html.parser')\n",
        "        return(soup)"
      ],
      "execution_count": 0,
      "outputs": []
    },
    {
      "cell_type": "code",
      "metadata": {
        "id": "56ez2NSBZnCF",
        "colab_type": "code",
        "colab": {}
      },
      "source": [
        "soup.find(\"article\",class_=\"product_pod\").div.a.get('href')"
      ],
      "execution_count": 0,
      "outputs": []
    },
    {
      "cell_type": "code",
      "metadata": {
        "id": "Q_eQyFVKZ-28",
        "colab_type": "code",
        "colab": {}
      },
      "source": [
        "main_page_products_urls =[x.div.a.get('href')     for x in soup.findAll(\"article\" ,class_=\"product_pod\")]\n",
        "print(str(len(main_page_products_urls)) +   \"Fetched products urls\")\n",
        "print(\"One example:\")\n",
        "main_page_products_urls[0]"
      ],
      "execution_count": 0,
      "outputs": []
    },
    {
      "cell_type": "code",
      "metadata": {
        "id": "sNFUsoX8cfPJ",
        "colab_type": "code",
        "colab": {}
      },
      "source": [
        "def getBooksURLs(url):\n",
        "    soup = getAndParseURL(url)\n",
        "    return([\"/\".join(url.split(\"/\")[:-1])+\"/\" +x.div.a.get('href') for x in soup.findALL(\"article\",class_=\"product_pod\")])"
      ],
      "execution_count": 0,
      "outputs": []
    },
    {
      "cell_type": "code",
      "metadata": {
        "id": "3aAlU_r0fks3",
        "colab_type": "code",
        "colab": {}
      },
      "source": [
        "import re\n",
        "categories_urls=[mainurl + x.get('href') for x in soup.find_all(\"a\",href=re.compile(\"catalogue/category/books\"))]\n",
        "categories_urls=categories_urls[1:]\n",
        "print(str(len(categories_urls)) + \" fetched categories  urls\")\n",
        "print(\"Some examples:\")\n",
        "categories_urls[:5]"
      ],
      "execution_count": 0,
      "outputs": []
    }
  ]
}